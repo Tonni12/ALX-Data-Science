{
  "nbformat": 4,
  "nbformat_minor": 0,
  "metadata": {
    "colab": {
      "provenance": [],
      "authorship_tag": "ABX9TyMNnoVt/r8nLhyAuavTGMDV",
      "include_colab_link": true
    },
    "kernelspec": {
      "name": "python3",
      "display_name": "Python 3"
    },
    "language_info": {
      "name": "python"
    }
  },
  "cells": [
    {
      "cell_type": "markdown",
      "metadata": {
        "id": "view-in-github",
        "colab_type": "text"
      },
      "source": [
        "<a href=\"https://colab.research.google.com/github/Tonni12/ALX-Data-Science/blob/python_programming_files/Exercise_files_alx.ipynb\" target=\"_parent\"><img src=\"https://colab.research.google.com/assets/colab-badge.svg\" alt=\"Open In Colab\"/></a>"
      ]
    },
    {
      "cell_type": "code",
      "execution_count": 1,
      "metadata": {
        "colab": {
          "base_uri": "https://localhost:8080/"
        },
        "id": "7cT_iMa7pDeR",
        "outputId": "28d99228-afef-4cde-ac15-45983783ad22"
      },
      "outputs": [
        {
          "output_type": "stream",
          "name": "stdout",
          "text": [
            "Great White Shark\n",
            "Blue Whale\n",
            "African Elephant\n",
            "Bald Eagle\n",
            "Orangutan\n",
            "Tiger\n",
            "Panda\n",
            "Koala\n"
          ]
        }
      ],
      "source": [
        "animals = ['Great White Shark', 'Blue Whale', 'African Elephant', 'Bald Eagle', 'Orangutan', 'Tiger', 'Panda', 'Koala']\n",
        "for animal in animals:\n",
        "  print(animal)"
      ]
    },
    {
      "cell_type": "markdown",
      "source": [
        "Use a while loop to print numbers from 0 to **4** **bold text**"
      ],
      "metadata": {
        "id": "GDiakg34qaYj"
      }
    },
    {
      "cell_type": "code",
      "source": [
        "i = 0\n",
        "while i < 5:\n",
        "  print(i)\n",
        "  i += 1"
      ],
      "metadata": {
        "colab": {
          "base_uri": "https://localhost:8080/"
        },
        "id": "-PiosPhIqXwL",
        "outputId": "930cec54-23a3-4284-a9e7-c63c0f78853e"
      },
      "execution_count": 2,
      "outputs": [
        {
          "output_type": "stream",
          "name": "stdout",
          "text": [
            "0\n",
            "1\n",
            "2\n",
            "3\n",
            "4\n"
          ]
        }
      ]
    },
    {
      "cell_type": "code",
      "source": [
        "### using a break statement to stop program execution within the loop\n",
        "for animal in animals:\n",
        "  if animal == 'Orangutan':\n",
        "    print(animal)\n",
        "    break"
      ],
      "metadata": {
        "colab": {
          "base_uri": "https://localhost:8080/"
        },
        "id": "_oof44idrst2",
        "outputId": "c8abffd2-c998-4ea8-fde0-4ce0cb9ad3ef"
      },
      "execution_count": 3,
      "outputs": [
        {
          "output_type": "stream",
          "name": "stdout",
          "text": [
            "Orangutan\n"
          ]
        }
      ]
    },
    {
      "cell_type": "code",
      "source": [
        "for animal in animals:\n",
        "  if animal == 'Bald Eagle':\n",
        "    continue\n",
        "  print(animal)"
      ],
      "metadata": {
        "colab": {
          "base_uri": "https://localhost:8080/"
        },
        "id": "ORsx2-dwtD9L",
        "outputId": "94d9bb16-729a-4f08-b090-75425cdf9553"
      },
      "execution_count": 4,
      "outputs": [
        {
          "output_type": "stream",
          "name": "stdout",
          "text": [
            "Great White Shark\n",
            "Blue Whale\n",
            "African Elephant\n",
            "Orangutan\n",
            "Tiger\n",
            "Panda\n",
            "Koala\n"
          ]
        }
      ]
    },
    {
      "cell_type": "code",
      "source": [
        "for animal in animals:\n",
        "  if animal == 'Panda':\n",
        "    pass\n",
        "  else:\n",
        "   print(animal)"
      ],
      "metadata": {
        "colab": {
          "base_uri": "https://localhost:8080/"
        },
        "id": "61-lMh22t4GG",
        "outputId": "5bb43878-7aa8-43d5-a3d4-a0d29fd46b0d"
      },
      "execution_count": 5,
      "outputs": [
        {
          "output_type": "stream",
          "name": "stdout",
          "text": [
            "Great White Shark\n",
            "Blue Whale\n",
            "African Elephant\n",
            "Bald Eagle\n",
            "Orangutan\n",
            "Tiger\n",
            "Koala\n"
          ]
        }
      ]
    },
    {
      "cell_type": "code",
      "source": [
        "# looping through an iterable type: lists using enumerate function\n",
        "deforestation_rates = [150, 145, 140, 135, 130]\n",
        "deforestation_years = [2010, 2011, 2012, 2013, 2014]"
      ],
      "metadata": {
        "id": "NwhUUxBXusS8"
      },
      "execution_count": 6,
      "outputs": []
    },
    {
      "cell_type": "code",
      "source": [
        "for i, rate in enumerate(deforestation_rates):\n",
        "  year =  deforestation_years[i]\n",
        "  print(f\"i = {i} - Yearly deforestation rate in {year} is: {rate}k hectares\")"
      ],
      "metadata": {
        "colab": {
          "base_uri": "https://localhost:8080/"
        },
        "id": "DE09lyIP047y",
        "outputId": "be30b307-6fd5-4bc5-d23d-87d563ea7950"
      },
      "execution_count": 7,
      "outputs": [
        {
          "output_type": "stream",
          "name": "stdout",
          "text": [
            "i = 0 - Yearly deforestation rate in 2010 is: 150k hectares\n",
            "i = 1 - Yearly deforestation rate in 2011 is: 145k hectares\n",
            "i = 2 - Yearly deforestation rate in 2012 is: 140k hectares\n",
            "i = 3 - Yearly deforestation rate in 2013 is: 135k hectares\n",
            "i = 4 - Yearly deforestation rate in 2014 is: 130k hectares\n"
          ]
        }
      ]
    },
    {
      "cell_type": "code",
      "source": [
        "## Looping over dictionary\n",
        "marine_species_count = {\n",
        "    'Dolphin': 12,\n",
        "    'Whales': 5,\n",
        "    'Shark': 3,\n",
        "    'Eel': 26,\n",
        "    'Sea Turtles': 15,\n",
        "    'Ray Fish': 8,\n",
        "    'Octopus': 10\n",
        "}\n",
        "for species in marine_species_count:\n",
        "  print(f'{species}: {marine_species_count[species]} sightings')"
      ],
      "metadata": {
        "colab": {
          "base_uri": "https://localhost:8080/"
        },
        "id": "EA_QpAyW1vBj",
        "outputId": "a00ad7e0-a2d5-4e11-f862-d0d81f0836bc"
      },
      "execution_count": 8,
      "outputs": [
        {
          "output_type": "stream",
          "name": "stdout",
          "text": [
            "Dolphin: 12 sightings\n",
            "Whales: 5 sightings\n",
            "Shark: 3 sightings\n",
            "Eel: 26 sightings\n",
            "Sea Turtles: 15 sightings\n",
            "Ray Fish: 8 sightings\n",
            "Octopus: 10 sightings\n"
          ]
        }
      ]
    },
    {
      "cell_type": "code",
      "source": [
        "endangered_marine_species = ['Hawksbill Turtle', 'Vaquita', 'Blue Whale', 'Staghorn Coral', 'Green Turtle']\n",
        "endangered_count = 0\n",
        "for species in endangered_marine_species:\n",
        "  endangered_count += 1\n",
        "print(f'Number of endangered marine species: {endangered_count}')"
      ],
      "metadata": {
        "colab": {
          "base_uri": "https://localhost:8080/"
        },
        "id": "Oo2y1pPG3_ad",
        "outputId": "54c01abe-3edc-4f7c-d7ec-ba508f84f3dd"
      },
      "execution_count": 9,
      "outputs": [
        {
          "output_type": "stream",
          "name": "stdout",
          "text": [
            "Number of endangered marine species: 5\n"
          ]
        }
      ]
    },
    {
      "cell_type": "code",
      "source": [
        "# deforestation alert system with a while loop when the forest area is below threshold\n",
        "initial_forested_area = 1000 # in square kilometers\n",
        "deforestation_rate = 20   # square kilometers per year\n",
        "years = 0\n",
        "while initial_forested_area > 500:\n",
        "  initial_forested_area -= deforestation_rate\n",
        "  years += 1\n",
        "print(f'Years until critical deforestation level: {years}')"
      ],
      "metadata": {
        "colab": {
          "base_uri": "https://localhost:8080/"
        },
        "id": "ggU4OkaY8Y8k",
        "outputId": "92006a9d-5ebb-45a4-cdaa-f2cf3d7dceb5"
      },
      "execution_count": 10,
      "outputs": [
        {
          "output_type": "stream",
          "name": "stdout",
          "text": [
            "Years until critical deforestation level: 25\n"
          ]
        }
      ]
    },
    {
      "cell_type": "code",
      "source": [
        "# biodiversity analysis on whehther they are endangered or not\n",
        "animals = ['Tiger', 'Blue Whale', 'African Elephant', 'Koala', 'Panda']\n",
        "endangered_animals = ['Tiger', 'Blue Whale', 'African Elephant']\n",
        "for animal in animals:\n",
        "  if animal in endangered_animals:\n",
        "    print(f'{animal} is endangered')\n",
        "  else:\n",
        "    print(f'{animal} is not endangered')"
      ],
      "metadata": {
        "colab": {
          "base_uri": "https://localhost:8080/"
        },
        "id": "UdRkR4j9-0sw",
        "outputId": "22dc65b9-a804-42b0-93cf-0c0f74667e3f"
      },
      "execution_count": 11,
      "outputs": [
        {
          "output_type": "stream",
          "name": "stdout",
          "text": [
            "Tiger is endangered\n",
            "Blue Whale is endangered\n",
            "African Elephant is endangered\n",
            "Koala is not endangered\n",
            "Panda is not endangered\n"
          ]
        }
      ]
    },
    {
      "cell_type": "code",
      "source": [
        "# ocean pollution tracker\n",
        "ocean_pollution_data = {\n",
        "    'Pacific Ocean': [3, 5, 2],\n",
        "    'Atlantic Ocean': [7, 2, 4],\n",
        "    'Indian Ocean': [5, 1, 3]\n",
        "}\n",
        "for ocean, pollution_levels in ocean_pollution_data.items():\n",
        "    total_pollution = sum(pollution_levels)\n",
        "    average_pollution = total_pollution / len(pollution_levels)\n",
        "    print(f'Average pollution level in the {ocean}: {average_pollution:.2f} ')"
      ],
      "metadata": {
        "colab": {
          "base_uri": "https://localhost:8080/"
        },
        "id": "GaQFNvBSDqD7",
        "outputId": "a5d8dac4-c9ba-4eff-d7fd-a3f31203b7bd"
      },
      "execution_count": 12,
      "outputs": [
        {
          "output_type": "stream",
          "name": "stdout",
          "text": [
            "Average pollution level in the Pacific Ocean: 3.33 \n",
            "Average pollution level in the Atlantic Ocean: 4.33 \n",
            "Average pollution level in the Indian Ocean: 3.00 \n"
          ]
        }
      ]
    },
    {
      "cell_type": "code",
      "source": [
        "# simulating a conservation effort with a while loop of species\n",
        "current_population = 150   # of a particular endangered species\n",
        "target_population = 500\n",
        "years = 0\n",
        "growth_rate = 1.07 # 7% annual growth due to conservation efforts\n",
        "while current_population < target_population:\n",
        "    current_population *= growth_rate\n",
        "    years += 1\n",
        "print(f'Years to reach target population: {years}')"
      ],
      "metadata": {
        "colab": {
          "base_uri": "https://localhost:8080/"
        },
        "id": "MWd7_QGJLAJU",
        "outputId": "e1cde793-b8c0-48ad-965d-396d690e23b7"
      },
      "execution_count": 13,
      "outputs": [
        {
          "output_type": "stream",
          "name": "stdout",
          "text": [
            "Years to reach target population: 18\n"
          ]
        }
      ]
    },
    {
      "cell_type": "code",
      "source": [
        "# list comprehension\n",
        "\n",
        "numbers = range(1, 11)\n",
        "squares = [number ** 2 for number in numbers]\n",
        "print(squares)"
      ],
      "metadata": {
        "colab": {
          "base_uri": "https://localhost:8080/"
        },
        "id": "-uTgIIloMmQb",
        "outputId": "568df613-bff4-4e63-f3b6-9bdc8527ae1e"
      },
      "execution_count": 14,
      "outputs": [
        {
          "output_type": "stream",
          "name": "stdout",
          "text": [
            "[1, 4, 9, 16, 25, 36, 49, 64, 81, 100]\n"
          ]
        }
      ]
    },
    {
      "cell_type": "code",
      "source": [
        "# list comprehension with conditionals\n",
        "\n",
        "numbers = range(1, 21)\n",
        "even_numbers = [x for x in numbers if x % 2 == 0]\n",
        "print(even_numbers)"
      ],
      "metadata": {
        "colab": {
          "base_uri": "https://localhost:8080/"
        },
        "id": "EtRY2SP1P6zz",
        "outputId": "3cf5aa12-5c1b-47d1-fb76-8f6234e73186"
      },
      "execution_count": 21,
      "outputs": [
        {
          "output_type": "stream",
          "name": "stdout",
          "text": [
            "[2, 4, 6, 8, 10, 12, 14, 16, 18, 20]\n"
          ]
        }
      ]
    },
    {
      "cell_type": "code",
      "source": [
        "# dictionary comprehension with loops\n",
        "marine_animals = {'Dolphin', 'Shark', 'Turtle'}\n",
        "animal_categories = {animal: 'Aquatic' for animal in marine_animals}\n",
        "print(animal_categories)"
      ],
      "metadata": {
        "colab": {
          "base_uri": "https://localhost:8080/"
        },
        "id": "Pp69d1rSOQB3",
        "outputId": "84c3dcd4-4b5d-492f-f794-a60031749bc9"
      },
      "execution_count": 22,
      "outputs": [
        {
          "output_type": "stream",
          "name": "stdout",
          "text": [
            "{'Dolphin': 'Aquatic', 'Turtle': 'Aquatic', 'Shark': 'Aquatic'}\n"
          ]
        }
      ]
    },
    {
      "cell_type": "code",
      "source": [
        "# Data mapping with dictionary comprhension\n",
        "species = ['Dolphins', 'Sea Turtles', 'Seals']\n",
        "status = ['Endangered', 'Vulnerable', 'Endangered', 'Least Concern']\n",
        "\n",
        "number_of_species = range(len(species))\n",
        "endangered_species = {species[i]: status[i] for i in number_of_species if status[i] == 'Endangered' }\n",
        "\n",
        "print(endangered_species)"
      ],
      "metadata": {
        "colab": {
          "base_uri": "https://localhost:8080/"
        },
        "id": "juXyPjWgQvn8",
        "outputId": "ccd967cc-8d1c-4e24-abeb-1a28a997da59"
      },
      "execution_count": 24,
      "outputs": [
        {
          "output_type": "stream",
          "name": "stdout",
          "text": [
            "{'Dolphins': 'Endangered', 'Seals': 'Endangered'}\n"
          ]
        }
      ]
    },
    {
      "cell_type": "code",
      "source": [],
      "metadata": {
        "id": "YNtWrJFBTYuO"
      },
      "execution_count": null,
      "outputs": []
    }
  ]
}