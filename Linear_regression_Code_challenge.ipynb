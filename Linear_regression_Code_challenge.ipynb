{
  "cells": [
    {
      "cell_type": "markdown",
      "metadata": {
        "id": "view-in-github",
        "colab_type": "text"
      },
      "source": [
        "<a href=\"https://colab.research.google.com/github/Tonni12/ALX-Data-Science/blob/main/Linear_regression_Code_challenge.ipynb\" target=\"_parent\"><img src=\"https://colab.research.google.com/assets/colab-badge.svg\" alt=\"Open In Colab\"/></a>"
      ]
    },
    {
      "cell_type": "markdown",
      "metadata": {
        "id": "ZIYG3ir5ciJb"
      },
      "source": [
        "<div align=\"center\" style=\" font-size: 80%; text-align: center; margin: 0 auto\">\n",
        "<img src=\"https://raw.githubusercontent.com/Explore-AI/Pictures/master/Python-Notebook-Banners/Code_challenge.png\"  style=\"display: block; margin-left: auto; margin-right: auto;\";/>\n",
        "</div>"
      ]
    },
    {
      "cell_type": "markdown",
      "metadata": {
        "id": "82tDmJayciJe"
      },
      "source": [
        "## Integrated Project: Understanding the yield\n",
        "© ExploreAI Academy"
      ]
    },
    {
      "cell_type": "markdown",
      "metadata": {
        "id": "qWP3yL09ciJf"
      },
      "source": [
        "In this coding challenge, we will apply all of the skills we learned in regression."
      ]
    },
    {
      "cell_type": "markdown",
      "metadata": {
        "id": "9-JyH_pyciJf"
      },
      "source": [
        "⚠️ **Note that this code challenge is graded and will contribute to your overall marks for this module. Submit this notebook for grading. Note that the names of the functions are different in this notebook. Transfer the code in your notebook to this submission notebook**\n",
        "\n",
        "### Instructions\n",
        "\n",
        "- **Do not add or remove cells in this notebook. Do not edit or remove the `### START FUNCTION` or `### END FUNCTION` comments. Do not add any code outside of the functions you are required to edit. Doing any of this will lead to a mark of 0%!**\n",
        "\n",
        "- Answer the questions according to the specifications provided.\n",
        "\n",
        "- Use the given cell in each question to see if your function matches the expected outputs.\n",
        "\n",
        "- Do not hard-code answers to the questions.\n",
        "\n",
        "- The use of StackOverflow, Google, and other online tools is permitted. However, copying a fellow student's code is not permissible and is considered a breach of the Honour code. Doing this will result in a mark of 0%."
      ]
    },
    {
      "cell_type": "markdown",
      "metadata": {
        "id": "m21dXKLpciJf"
      },
      "source": [
        "# Introduction to simple linear regression"
      ]
    },
    {
      "cell_type": "markdown",
      "metadata": {
        "id": "DN2PjKC3ciJf"
      },
      "source": [
        "Simple linear regression is a fundamental statistical method used to quantify the relationship between two variables. It allows us to predict an outcome (dependent variable) based on the value of one predictor (independent variable). In this challenge, we will apply simple linear regression to understand how different environmental factors affect the standardised yield of crops.\n",
        "\n",
        "Our insights will not only help local farmers maximise their harvests but also contribute to the sustainable agriculture practices in Maji Ndogo.\n",
        "\n"
      ]
    },
    {
      "cell_type": "markdown",
      "metadata": {
        "id": "j1oM2hyuciJg"
      },
      "source": [
        "# Initial data exploration"
      ]
    },
    {
      "cell_type": "markdown",
      "metadata": {
        "id": "bANPwwmPciJg"
      },
      "source": [
        "Before we sow the seeds of our regression model, we need to get to know our soil – the dataset. This dataset was developed through extensive agricultural surveys conducted at farms across Maji Ndogo. It contains various factors that might influence a farm's crop yield, from the elevation of the fields to the average temperature they bask in.\n",
        "\n",
        "Spend some time looking at the data dictionary and start thinking about what could be influencing our crop yield."
      ]
    },
    {
      "cell_type": "markdown",
      "metadata": {
        "id": "VDQaO1ZHciJg"
      },
      "source": [
        "# Data dictionary"
      ]
    },
    {
      "cell_type": "markdown",
      "metadata": {
        "id": "EF1Gl5HbciJg"
      },
      "source": [
        "**1. Geographic features**\n",
        "\n",
        "- **Field_ID:** A unique identifier for each field (BigInt).\n",
        "\n",
        "- **Elevation:** The elevation of the field above sea level in metres (Float).\n",
        "\n",
        "- **Latitude:** Geographical latitude of the field in degrees (Float). (DUMMY VARIABLE- the simulation might have created a relationship)\n",
        "\n",
        "- **Longitude:** Geographical longitude of the field in degrees (Float). (DUMMY VARIABLE- the simulation might have created a relationship)\n",
        "\n",
        "- **Location:** Province the field is in (Text).\n",
        "\n",
        "- **Slope:** The slope of the land in the field (Float).\n",
        "\n",
        "**2. Weather features**\n",
        "\n",
        "- **Rainfall:** Amount of rainfall in the area in mm (Float).\n",
        "\n",
        "- **Min_temperature_C:** Average minimum temperature recorded in Celsius (Float).(DUMMY VARIABLE)\n",
        "\n",
        "- **Max_temperature_C:** Average maximum temperature recorded in Celsius (Float).(DUMMY VARIABLE)\n",
        "\n",
        "- **Ave_temps:** Average temperature in Celcius (Float).\n",
        "\n",
        "**3. Soil and crop features**\n",
        "\n",
        "- **Soil_fertility:** A measure of soil fertility where 0 is infertile soil, and 1 is very fertile soil (Float).\n",
        "\n",
        "- **Soil_type:** Type of soil present in the field (Text).\n",
        "\n",
        "- **pH:** pH level of the soil, which is a measure of how acidic/basic the soil is (Float).\n",
        "\n",
        "**4. Farm management features**\n",
        "\n",
        "- **Field_ID:** Corresponding field identifier (BigInt).\n",
        "\n",
        "- **Pollution_level:** Level of pollution in the area where 0 is unpolluted and 1 is very polluted (Float).\n",
        "\n",
        "- **Plot_size:** Size of the plot in the field (Ha) (Float). (DUMMY VARIABLE)\n",
        "\n",
        "- **Chosen_crop:** Type of crop chosen for cultivation (Text).\n",
        "\n",
        "- **Annual_yield:** Annual yield from the field (Float). This is the total output of the field. The field size and type of crop will affect the Annual Yield (DUMMY VARIABLE - Removed)\n",
        "\n",
        "<br>\n",
        "\n",
        "**5. Target variable**\n",
        "- **Standard_yield:** Standardised yield expected from the field, normalised per crop (Float). This is independent of field size, or crop type. Multiplying this number by the field size, and average crop yield will give the Annual_Yield.\n",
        "\n",
        "---"
      ]
    },
    {
      "cell_type": "markdown",
      "metadata": {
        "id": "JzDBJG-2ciJg"
      },
      "source": [
        "Let's import our database again, like we did last time. We won't use the weather data so it is commented out.\n",
        "\n",
        "**Important:** Ensure that `data_ingestion.py` file and the `field_data_processor.py` files are stored in the same folder as your notebook, otherwise the data import will fail. The links to the files are below:\n",
        "\n",
        "[Download files here](https://github.com/Explore-AI/Public-Data/raw/master/Maji_Ndogo/modules.zip)\n"
      ]
    },
    {
      "cell_type": "code",
      "execution_count": 2,
      "metadata": {
        "colab": {
          "base_uri": "https://localhost:8080/"
        },
        "id": "e5_9wfBnciJh",
        "outputId": "02d2ecf8-4984-4649-e9e4-b4e158400521"
      },
      "outputs": [
        {
          "output_type": "stream",
          "name": "stderr",
          "text": [
            "2024-11-20 12:04:36,448 - field_data_processor.FieldDataProcessor - INFO - Sucessfully loaded data.\n",
            "2024-11-20 12:04:36,455 - field_data_processor.FieldDataProcessor - INFO - Swapped columns: Annual_yield with Crop_type\n"
          ]
        }
      ],
      "source": [
        "# Read the database, and clean the data using the processing modules we built.\n",
        "\n",
        "import re\n",
        "import numpy as np\n",
        "import pandas as pd\n",
        "from field_data_processor import FieldDataProcessor\n",
        "# from weather_data_processor import WeatherDataProcessor\n",
        "import logging\n",
        "\n",
        "logging.basicConfig(level=logging.INFO, format='%(asctime)s - %(name)s - %(levelname)s - %(message)s')\n",
        "\n",
        "query =     \"\"\"\n",
        "            SELECT *\n",
        "            FROM geographic_features\n",
        "            LEFT JOIN weather_features USING (Field_ID)\n",
        "            LEFT JOIN soil_and_crop_features USING (Field_ID)\n",
        "            LEFT JOIN farm_management_features USING (Field_ID)\n",
        "            \"\"\"\n",
        "\n",
        "config_params = {\n",
        "    \"sql_query\": \"\"\"\n",
        "            SELECT *\n",
        "            FROM geographic_features\n",
        "            LEFT JOIN weather_features USING (Field_ID)\n",
        "            LEFT JOIN soil_and_crop_features USING (Field_ID)\n",
        "            LEFT JOIN farm_management_features USING (Field_ID)\n",
        "            \"\"\",\n",
        "    \"db_path\": 'sqlite:///Maji_Ndogo_farm_survey_small.db',\n",
        "    \"columns_to_rename\": {'Annual_yield': 'Crop_type', 'Crop_type': 'Annual_yield'},\n",
        "    \"values_to_rename\": {'cassaval': 'cassava', 'wheatn': 'wheat', 'teaa': 'tea'},\n",
        "    \"weather_csv_path\": \"https://raw.githubusercontent.com/Explore-AI/Public-Data/master/Maji_Ndogo/Weather_station_data.csv\",\n",
        "    \"weather_mapping_csv\": \"https://raw.githubusercontent.com/Explore-AI/Public-Data/master/Maji_Ndogo/Weather_data_field_mapping.csv\",\n",
        "    \"regex_patterns\" : {\n",
        "            'Rainfall': r'(\\d+(\\.\\d+)?)\\s?mm',\n",
        "            'Temperature': r'(\\d+(\\.\\d+)?)\\s?C',\n",
        "            'Pollution_level': r'=\\s*(-?\\d+(\\.\\d+)?)|Pollution at \\s*(-?\\d+(\\.\\d+)?)'\n",
        "            },\n",
        "}\n",
        "# Ignoring the field data for now.\n",
        "field_processor = FieldDataProcessor(config_params, query)\n",
        "field_processor.process()\n",
        "field_df = field_processor.df\n",
        "\n",
        "# We're not going to use the weather data this time, so we'll ignore it.\n",
        "# weather_processor = WeatherDataProcessor(config_params)\n",
        "# weather_processor.process()\n",
        "# weather_df = weather_processor.weather_df\n",
        "\n",
        "dataset = field_df.drop(\"Weather_station\", axis=1)"
      ]
    },
    {
      "cell_type": "code",
      "execution_count": 3,
      "metadata": {
        "colab": {
          "base_uri": "https://localhost:8080/"
        },
        "id": "DqPYqUDUciJh",
        "outputId": "71ba6095-eec6-47ce-9edb-14b67c837b57"
      },
      "outputs": [
        {
          "output_type": "execute_result",
          "data": {
            "text/plain": [
              "18"
            ]
          },
          "metadata": {},
          "execution_count": 3
        }
      ],
      "source": [
        "len(dataset.columns)"
      ]
    },
    {
      "cell_type": "code",
      "execution_count": 4,
      "metadata": {
        "colab": {
          "base_uri": "https://localhost:8080/",
          "height": 444
        },
        "id": "X6BGLu3RciJi",
        "outputId": "3871fe7a-01c5-4082-a6f2-2f3b55899307"
      },
      "outputs": [
        {
          "output_type": "execute_result",
          "data": {
            "text/plain": [
              "      Field_ID  Elevation   Latitude  Longitude        Location      Slope  \\\n",
              "0        40734  786.05580  -7.389911  -7.556202    Rural_Akatsi  14.795113   \n",
              "1        30629  674.33410  -7.736849  -1.051539    Rural_Sokoto  11.374611   \n",
              "2        39924  826.53390  -9.926616   0.115156    Rural_Sokoto  11.339692   \n",
              "3         5754  574.94617  -2.420131  -6.592215  Rural_Kilimani   7.109855   \n",
              "4        14146  886.35300  -3.055434  -7.952609  Rural_Kilimani  55.007656   \n",
              "...        ...        ...        ...        ...             ...        ...   \n",
              "5649     11472  681.36145  -7.358371  -6.254369    Rural_Akatsi  16.213196   \n",
              "5650     19660  667.02120  -3.154559  -4.475046  Rural_Kilimani   2.397553   \n",
              "5651     41296  670.77900 -14.472861  -6.110221   Rural_Hawassa   7.636470   \n",
              "5652     33090  429.48840 -14.653089  -6.984116   Rural_Hawassa  13.944720   \n",
              "5653      8375  763.09030  -4.317028  -6.344461  Rural_Kilimani  35.189430   \n",
              "\n",
              "      Rainfall  Min_temperature_C  Max_temperature_C  Ave_temps  \\\n",
              "0       1125.2               -3.1               33.1      15.00   \n",
              "1       1450.7               -3.9               30.6      13.35   \n",
              "2       2208.9               -1.8               28.4      13.30   \n",
              "3        328.8               -5.8               32.2      13.20   \n",
              "4        785.2               -2.5               31.0      14.25   \n",
              "...        ...                ...                ...        ...   \n",
              "5649     885.7               -4.3               33.4      14.55   \n",
              "5650     501.1               -4.8               32.1      13.65   \n",
              "5651    1586.6               -3.8               33.4      14.80   \n",
              "5652    1272.2               -6.2               34.6      14.20   \n",
              "5653     516.4               -3.8               29.6      12.90   \n",
              "\n",
              "      Soil_fertility Soil_type        pH  Pollution_level  Plot_size  \\\n",
              "0               0.62     Sandy  6.169393     8.526684e-02        1.3   \n",
              "1               0.64  Volcanic  5.676648     3.996838e-01        2.2   \n",
              "2               0.69  Volcanic  5.331993     3.580286e-01        3.4   \n",
              "3               0.54     Loamy  5.328150     2.866871e-01        2.4   \n",
              "4               0.72     Sandy  5.721234     4.319027e-02        1.5   \n",
              "...              ...       ...       ...              ...        ...   \n",
              "5649            0.61     Sandy  5.741063     3.286828e-01        1.1   \n",
              "5650            0.54     Sandy  5.445833     1.602583e-01        8.7   \n",
              "5651            0.64  Volcanic  5.385873     8.221326e-09        2.1   \n",
              "5652            0.63      Silt  5.562508     6.917245e-10        1.3   \n",
              "5653            0.64     Sandy  5.087792     2.612715e-01        0.5   \n",
              "\n",
              "      Annual_yield Crop_type  Standard_yield  \n",
              "0         0.751354   cassava        0.577964  \n",
              "1         1.069865   cassava        0.486302  \n",
              "2         2.208801       tea        0.649647  \n",
              "3         1.277635   cassava        0.532348  \n",
              "4         0.832614     wheat        0.555076  \n",
              "...            ...       ...             ...  \n",
              "5649      0.609930    potato        0.554482  \n",
              "5650      3.812289     maize        0.438194  \n",
              "5651      1.681629       tea        0.800776  \n",
              "5652      0.659874   cassava        0.507595  \n",
              "5653      0.226532     wheat        0.453064  \n",
              "\n",
              "[5654 rows x 18 columns]"
            ],
            "text/html": [
              "\n",
              "  <div id=\"df-dde76199-7eb6-451e-aa3f-5249845cb3d5\" class=\"colab-df-container\">\n",
              "    <div>\n",
              "<style scoped>\n",
              "    .dataframe tbody tr th:only-of-type {\n",
              "        vertical-align: middle;\n",
              "    }\n",
              "\n",
              "    .dataframe tbody tr th {\n",
              "        vertical-align: top;\n",
              "    }\n",
              "\n",
              "    .dataframe thead th {\n",
              "        text-align: right;\n",
              "    }\n",
              "</style>\n",
              "<table border=\"1\" class=\"dataframe\">\n",
              "  <thead>\n",
              "    <tr style=\"text-align: right;\">\n",
              "      <th></th>\n",
              "      <th>Field_ID</th>\n",
              "      <th>Elevation</th>\n",
              "      <th>Latitude</th>\n",
              "      <th>Longitude</th>\n",
              "      <th>Location</th>\n",
              "      <th>Slope</th>\n",
              "      <th>Rainfall</th>\n",
              "      <th>Min_temperature_C</th>\n",
              "      <th>Max_temperature_C</th>\n",
              "      <th>Ave_temps</th>\n",
              "      <th>Soil_fertility</th>\n",
              "      <th>Soil_type</th>\n",
              "      <th>pH</th>\n",
              "      <th>Pollution_level</th>\n",
              "      <th>Plot_size</th>\n",
              "      <th>Annual_yield</th>\n",
              "      <th>Crop_type</th>\n",
              "      <th>Standard_yield</th>\n",
              "    </tr>\n",
              "  </thead>\n",
              "  <tbody>\n",
              "    <tr>\n",
              "      <th>0</th>\n",
              "      <td>40734</td>\n",
              "      <td>786.05580</td>\n",
              "      <td>-7.389911</td>\n",
              "      <td>-7.556202</td>\n",
              "      <td>Rural_Akatsi</td>\n",
              "      <td>14.795113</td>\n",
              "      <td>1125.2</td>\n",
              "      <td>-3.1</td>\n",
              "      <td>33.1</td>\n",
              "      <td>15.00</td>\n",
              "      <td>0.62</td>\n",
              "      <td>Sandy</td>\n",
              "      <td>6.169393</td>\n",
              "      <td>8.526684e-02</td>\n",
              "      <td>1.3</td>\n",
              "      <td>0.751354</td>\n",
              "      <td>cassava</td>\n",
              "      <td>0.577964</td>\n",
              "    </tr>\n",
              "    <tr>\n",
              "      <th>1</th>\n",
              "      <td>30629</td>\n",
              "      <td>674.33410</td>\n",
              "      <td>-7.736849</td>\n",
              "      <td>-1.051539</td>\n",
              "      <td>Rural_Sokoto</td>\n",
              "      <td>11.374611</td>\n",
              "      <td>1450.7</td>\n",
              "      <td>-3.9</td>\n",
              "      <td>30.6</td>\n",
              "      <td>13.35</td>\n",
              "      <td>0.64</td>\n",
              "      <td>Volcanic</td>\n",
              "      <td>5.676648</td>\n",
              "      <td>3.996838e-01</td>\n",
              "      <td>2.2</td>\n",
              "      <td>1.069865</td>\n",
              "      <td>cassava</td>\n",
              "      <td>0.486302</td>\n",
              "    </tr>\n",
              "    <tr>\n",
              "      <th>2</th>\n",
              "      <td>39924</td>\n",
              "      <td>826.53390</td>\n",
              "      <td>-9.926616</td>\n",
              "      <td>0.115156</td>\n",
              "      <td>Rural_Sokoto</td>\n",
              "      <td>11.339692</td>\n",
              "      <td>2208.9</td>\n",
              "      <td>-1.8</td>\n",
              "      <td>28.4</td>\n",
              "      <td>13.30</td>\n",
              "      <td>0.69</td>\n",
              "      <td>Volcanic</td>\n",
              "      <td>5.331993</td>\n",
              "      <td>3.580286e-01</td>\n",
              "      <td>3.4</td>\n",
              "      <td>2.208801</td>\n",
              "      <td>tea</td>\n",
              "      <td>0.649647</td>\n",
              "    </tr>\n",
              "    <tr>\n",
              "      <th>3</th>\n",
              "      <td>5754</td>\n",
              "      <td>574.94617</td>\n",
              "      <td>-2.420131</td>\n",
              "      <td>-6.592215</td>\n",
              "      <td>Rural_Kilimani</td>\n",
              "      <td>7.109855</td>\n",
              "      <td>328.8</td>\n",
              "      <td>-5.8</td>\n",
              "      <td>32.2</td>\n",
              "      <td>13.20</td>\n",
              "      <td>0.54</td>\n",
              "      <td>Loamy</td>\n",
              "      <td>5.328150</td>\n",
              "      <td>2.866871e-01</td>\n",
              "      <td>2.4</td>\n",
              "      <td>1.277635</td>\n",
              "      <td>cassava</td>\n",
              "      <td>0.532348</td>\n",
              "    </tr>\n",
              "    <tr>\n",
              "      <th>4</th>\n",
              "      <td>14146</td>\n",
              "      <td>886.35300</td>\n",
              "      <td>-3.055434</td>\n",
              "      <td>-7.952609</td>\n",
              "      <td>Rural_Kilimani</td>\n",
              "      <td>55.007656</td>\n",
              "      <td>785.2</td>\n",
              "      <td>-2.5</td>\n",
              "      <td>31.0</td>\n",
              "      <td>14.25</td>\n",
              "      <td>0.72</td>\n",
              "      <td>Sandy</td>\n",
              "      <td>5.721234</td>\n",
              "      <td>4.319027e-02</td>\n",
              "      <td>1.5</td>\n",
              "      <td>0.832614</td>\n",
              "      <td>wheat</td>\n",
              "      <td>0.555076</td>\n",
              "    </tr>\n",
              "    <tr>\n",
              "      <th>...</th>\n",
              "      <td>...</td>\n",
              "      <td>...</td>\n",
              "      <td>...</td>\n",
              "      <td>...</td>\n",
              "      <td>...</td>\n",
              "      <td>...</td>\n",
              "      <td>...</td>\n",
              "      <td>...</td>\n",
              "      <td>...</td>\n",
              "      <td>...</td>\n",
              "      <td>...</td>\n",
              "      <td>...</td>\n",
              "      <td>...</td>\n",
              "      <td>...</td>\n",
              "      <td>...</td>\n",
              "      <td>...</td>\n",
              "      <td>...</td>\n",
              "      <td>...</td>\n",
              "    </tr>\n",
              "    <tr>\n",
              "      <th>5649</th>\n",
              "      <td>11472</td>\n",
              "      <td>681.36145</td>\n",
              "      <td>-7.358371</td>\n",
              "      <td>-6.254369</td>\n",
              "      <td>Rural_Akatsi</td>\n",
              "      <td>16.213196</td>\n",
              "      <td>885.7</td>\n",
              "      <td>-4.3</td>\n",
              "      <td>33.4</td>\n",
              "      <td>14.55</td>\n",
              "      <td>0.61</td>\n",
              "      <td>Sandy</td>\n",
              "      <td>5.741063</td>\n",
              "      <td>3.286828e-01</td>\n",
              "      <td>1.1</td>\n",
              "      <td>0.609930</td>\n",
              "      <td>potato</td>\n",
              "      <td>0.554482</td>\n",
              "    </tr>\n",
              "    <tr>\n",
              "      <th>5650</th>\n",
              "      <td>19660</td>\n",
              "      <td>667.02120</td>\n",
              "      <td>-3.154559</td>\n",
              "      <td>-4.475046</td>\n",
              "      <td>Rural_Kilimani</td>\n",
              "      <td>2.397553</td>\n",
              "      <td>501.1</td>\n",
              "      <td>-4.8</td>\n",
              "      <td>32.1</td>\n",
              "      <td>13.65</td>\n",
              "      <td>0.54</td>\n",
              "      <td>Sandy</td>\n",
              "      <td>5.445833</td>\n",
              "      <td>1.602583e-01</td>\n",
              "      <td>8.7</td>\n",
              "      <td>3.812289</td>\n",
              "      <td>maize</td>\n",
              "      <td>0.438194</td>\n",
              "    </tr>\n",
              "    <tr>\n",
              "      <th>5651</th>\n",
              "      <td>41296</td>\n",
              "      <td>670.77900</td>\n",
              "      <td>-14.472861</td>\n",
              "      <td>-6.110221</td>\n",
              "      <td>Rural_Hawassa</td>\n",
              "      <td>7.636470</td>\n",
              "      <td>1586.6</td>\n",
              "      <td>-3.8</td>\n",
              "      <td>33.4</td>\n",
              "      <td>14.80</td>\n",
              "      <td>0.64</td>\n",
              "      <td>Volcanic</td>\n",
              "      <td>5.385873</td>\n",
              "      <td>8.221326e-09</td>\n",
              "      <td>2.1</td>\n",
              "      <td>1.681629</td>\n",
              "      <td>tea</td>\n",
              "      <td>0.800776</td>\n",
              "    </tr>\n",
              "    <tr>\n",
              "      <th>5652</th>\n",
              "      <td>33090</td>\n",
              "      <td>429.48840</td>\n",
              "      <td>-14.653089</td>\n",
              "      <td>-6.984116</td>\n",
              "      <td>Rural_Hawassa</td>\n",
              "      <td>13.944720</td>\n",
              "      <td>1272.2</td>\n",
              "      <td>-6.2</td>\n",
              "      <td>34.6</td>\n",
              "      <td>14.20</td>\n",
              "      <td>0.63</td>\n",
              "      <td>Silt</td>\n",
              "      <td>5.562508</td>\n",
              "      <td>6.917245e-10</td>\n",
              "      <td>1.3</td>\n",
              "      <td>0.659874</td>\n",
              "      <td>cassava</td>\n",
              "      <td>0.507595</td>\n",
              "    </tr>\n",
              "    <tr>\n",
              "      <th>5653</th>\n",
              "      <td>8375</td>\n",
              "      <td>763.09030</td>\n",
              "      <td>-4.317028</td>\n",
              "      <td>-6.344461</td>\n",
              "      <td>Rural_Kilimani</td>\n",
              "      <td>35.189430</td>\n",
              "      <td>516.4</td>\n",
              "      <td>-3.8</td>\n",
              "      <td>29.6</td>\n",
              "      <td>12.90</td>\n",
              "      <td>0.64</td>\n",
              "      <td>Sandy</td>\n",
              "      <td>5.087792</td>\n",
              "      <td>2.612715e-01</td>\n",
              "      <td>0.5</td>\n",
              "      <td>0.226532</td>\n",
              "      <td>wheat</td>\n",
              "      <td>0.453064</td>\n",
              "    </tr>\n",
              "  </tbody>\n",
              "</table>\n",
              "<p>5654 rows × 18 columns</p>\n",
              "</div>\n",
              "    <div class=\"colab-df-buttons\">\n",
              "\n",
              "  <div class=\"colab-df-container\">\n",
              "    <button class=\"colab-df-convert\" onclick=\"convertToInteractive('df-dde76199-7eb6-451e-aa3f-5249845cb3d5')\"\n",
              "            title=\"Convert this dataframe to an interactive table.\"\n",
              "            style=\"display:none;\">\n",
              "\n",
              "  <svg xmlns=\"http://www.w3.org/2000/svg\" height=\"24px\" viewBox=\"0 -960 960 960\">\n",
              "    <path d=\"M120-120v-720h720v720H120Zm60-500h600v-160H180v160Zm220 220h160v-160H400v160Zm0 220h160v-160H400v160ZM180-400h160v-160H180v160Zm440 0h160v-160H620v160ZM180-180h160v-160H180v160Zm440 0h160v-160H620v160Z\"/>\n",
              "  </svg>\n",
              "    </button>\n",
              "\n",
              "  <style>\n",
              "    .colab-df-container {\n",
              "      display:flex;\n",
              "      gap: 12px;\n",
              "    }\n",
              "\n",
              "    .colab-df-convert {\n",
              "      background-color: #E8F0FE;\n",
              "      border: none;\n",
              "      border-radius: 50%;\n",
              "      cursor: pointer;\n",
              "      display: none;\n",
              "      fill: #1967D2;\n",
              "      height: 32px;\n",
              "      padding: 0 0 0 0;\n",
              "      width: 32px;\n",
              "    }\n",
              "\n",
              "    .colab-df-convert:hover {\n",
              "      background-color: #E2EBFA;\n",
              "      box-shadow: 0px 1px 2px rgba(60, 64, 67, 0.3), 0px 1px 3px 1px rgba(60, 64, 67, 0.15);\n",
              "      fill: #174EA6;\n",
              "    }\n",
              "\n",
              "    .colab-df-buttons div {\n",
              "      margin-bottom: 4px;\n",
              "    }\n",
              "\n",
              "    [theme=dark] .colab-df-convert {\n",
              "      background-color: #3B4455;\n",
              "      fill: #D2E3FC;\n",
              "    }\n",
              "\n",
              "    [theme=dark] .colab-df-convert:hover {\n",
              "      background-color: #434B5C;\n",
              "      box-shadow: 0px 1px 3px 1px rgba(0, 0, 0, 0.15);\n",
              "      filter: drop-shadow(0px 1px 2px rgba(0, 0, 0, 0.3));\n",
              "      fill: #FFFFFF;\n",
              "    }\n",
              "  </style>\n",
              "\n",
              "    <script>\n",
              "      const buttonEl =\n",
              "        document.querySelector('#df-dde76199-7eb6-451e-aa3f-5249845cb3d5 button.colab-df-convert');\n",
              "      buttonEl.style.display =\n",
              "        google.colab.kernel.accessAllowed ? 'block' : 'none';\n",
              "\n",
              "      async function convertToInteractive(key) {\n",
              "        const element = document.querySelector('#df-dde76199-7eb6-451e-aa3f-5249845cb3d5');\n",
              "        const dataTable =\n",
              "          await google.colab.kernel.invokeFunction('convertToInteractive',\n",
              "                                                    [key], {});\n",
              "        if (!dataTable) return;\n",
              "\n",
              "        const docLinkHtml = 'Like what you see? Visit the ' +\n",
              "          '<a target=\"_blank\" href=https://colab.research.google.com/notebooks/data_table.ipynb>data table notebook</a>'\n",
              "          + ' to learn more about interactive tables.';\n",
              "        element.innerHTML = '';\n",
              "        dataTable['output_type'] = 'display_data';\n",
              "        await google.colab.output.renderOutput(dataTable, element);\n",
              "        const docLink = document.createElement('div');\n",
              "        docLink.innerHTML = docLinkHtml;\n",
              "        element.appendChild(docLink);\n",
              "      }\n",
              "    </script>\n",
              "  </div>\n",
              "\n",
              "\n",
              "<div id=\"df-7b6cd72a-b4ac-4550-89f3-36de56ed74e8\">\n",
              "  <button class=\"colab-df-quickchart\" onclick=\"quickchart('df-7b6cd72a-b4ac-4550-89f3-36de56ed74e8')\"\n",
              "            title=\"Suggest charts\"\n",
              "            style=\"display:none;\">\n",
              "\n",
              "<svg xmlns=\"http://www.w3.org/2000/svg\" height=\"24px\"viewBox=\"0 0 24 24\"\n",
              "     width=\"24px\">\n",
              "    <g>\n",
              "        <path d=\"M19 3H5c-1.1 0-2 .9-2 2v14c0 1.1.9 2 2 2h14c1.1 0 2-.9 2-2V5c0-1.1-.9-2-2-2zM9 17H7v-7h2v7zm4 0h-2V7h2v10zm4 0h-2v-4h2v4z\"/>\n",
              "    </g>\n",
              "</svg>\n",
              "  </button>\n",
              "\n",
              "<style>\n",
              "  .colab-df-quickchart {\n",
              "      --bg-color: #E8F0FE;\n",
              "      --fill-color: #1967D2;\n",
              "      --hover-bg-color: #E2EBFA;\n",
              "      --hover-fill-color: #174EA6;\n",
              "      --disabled-fill-color: #AAA;\n",
              "      --disabled-bg-color: #DDD;\n",
              "  }\n",
              "\n",
              "  [theme=dark] .colab-df-quickchart {\n",
              "      --bg-color: #3B4455;\n",
              "      --fill-color: #D2E3FC;\n",
              "      --hover-bg-color: #434B5C;\n",
              "      --hover-fill-color: #FFFFFF;\n",
              "      --disabled-bg-color: #3B4455;\n",
              "      --disabled-fill-color: #666;\n",
              "  }\n",
              "\n",
              "  .colab-df-quickchart {\n",
              "    background-color: var(--bg-color);\n",
              "    border: none;\n",
              "    border-radius: 50%;\n",
              "    cursor: pointer;\n",
              "    display: none;\n",
              "    fill: var(--fill-color);\n",
              "    height: 32px;\n",
              "    padding: 0;\n",
              "    width: 32px;\n",
              "  }\n",
              "\n",
              "  .colab-df-quickchart:hover {\n",
              "    background-color: var(--hover-bg-color);\n",
              "    box-shadow: 0 1px 2px rgba(60, 64, 67, 0.3), 0 1px 3px 1px rgba(60, 64, 67, 0.15);\n",
              "    fill: var(--button-hover-fill-color);\n",
              "  }\n",
              "\n",
              "  .colab-df-quickchart-complete:disabled,\n",
              "  .colab-df-quickchart-complete:disabled:hover {\n",
              "    background-color: var(--disabled-bg-color);\n",
              "    fill: var(--disabled-fill-color);\n",
              "    box-shadow: none;\n",
              "  }\n",
              "\n",
              "  .colab-df-spinner {\n",
              "    border: 2px solid var(--fill-color);\n",
              "    border-color: transparent;\n",
              "    border-bottom-color: var(--fill-color);\n",
              "    animation:\n",
              "      spin 1s steps(1) infinite;\n",
              "  }\n",
              "\n",
              "  @keyframes spin {\n",
              "    0% {\n",
              "      border-color: transparent;\n",
              "      border-bottom-color: var(--fill-color);\n",
              "      border-left-color: var(--fill-color);\n",
              "    }\n",
              "    20% {\n",
              "      border-color: transparent;\n",
              "      border-left-color: var(--fill-color);\n",
              "      border-top-color: var(--fill-color);\n",
              "    }\n",
              "    30% {\n",
              "      border-color: transparent;\n",
              "      border-left-color: var(--fill-color);\n",
              "      border-top-color: var(--fill-color);\n",
              "      border-right-color: var(--fill-color);\n",
              "    }\n",
              "    40% {\n",
              "      border-color: transparent;\n",
              "      border-right-color: var(--fill-color);\n",
              "      border-top-color: var(--fill-color);\n",
              "    }\n",
              "    60% {\n",
              "      border-color: transparent;\n",
              "      border-right-color: var(--fill-color);\n",
              "    }\n",
              "    80% {\n",
              "      border-color: transparent;\n",
              "      border-right-color: var(--fill-color);\n",
              "      border-bottom-color: var(--fill-color);\n",
              "    }\n",
              "    90% {\n",
              "      border-color: transparent;\n",
              "      border-bottom-color: var(--fill-color);\n",
              "    }\n",
              "  }\n",
              "</style>\n",
              "\n",
              "  <script>\n",
              "    async function quickchart(key) {\n",
              "      const quickchartButtonEl =\n",
              "        document.querySelector('#' + key + ' button');\n",
              "      quickchartButtonEl.disabled = true;  // To prevent multiple clicks.\n",
              "      quickchartButtonEl.classList.add('colab-df-spinner');\n",
              "      try {\n",
              "        const charts = await google.colab.kernel.invokeFunction(\n",
              "            'suggestCharts', [key], {});\n",
              "      } catch (error) {\n",
              "        console.error('Error during call to suggestCharts:', error);\n",
              "      }\n",
              "      quickchartButtonEl.classList.remove('colab-df-spinner');\n",
              "      quickchartButtonEl.classList.add('colab-df-quickchart-complete');\n",
              "    }\n",
              "    (() => {\n",
              "      let quickchartButtonEl =\n",
              "        document.querySelector('#df-7b6cd72a-b4ac-4550-89f3-36de56ed74e8 button');\n",
              "      quickchartButtonEl.style.display =\n",
              "        google.colab.kernel.accessAllowed ? 'block' : 'none';\n",
              "    })();\n",
              "  </script>\n",
              "</div>\n",
              "\n",
              "  <div id=\"id_58fcc8d6-2518-4206-9089-c5460d42ac0d\">\n",
              "    <style>\n",
              "      .colab-df-generate {\n",
              "        background-color: #E8F0FE;\n",
              "        border: none;\n",
              "        border-radius: 50%;\n",
              "        cursor: pointer;\n",
              "        display: none;\n",
              "        fill: #1967D2;\n",
              "        height: 32px;\n",
              "        padding: 0 0 0 0;\n",
              "        width: 32px;\n",
              "      }\n",
              "\n",
              "      .colab-df-generate:hover {\n",
              "        background-color: #E2EBFA;\n",
              "        box-shadow: 0px 1px 2px rgba(60, 64, 67, 0.3), 0px 1px 3px 1px rgba(60, 64, 67, 0.15);\n",
              "        fill: #174EA6;\n",
              "      }\n",
              "\n",
              "      [theme=dark] .colab-df-generate {\n",
              "        background-color: #3B4455;\n",
              "        fill: #D2E3FC;\n",
              "      }\n",
              "\n",
              "      [theme=dark] .colab-df-generate:hover {\n",
              "        background-color: #434B5C;\n",
              "        box-shadow: 0px 1px 3px 1px rgba(0, 0, 0, 0.15);\n",
              "        filter: drop-shadow(0px 1px 2px rgba(0, 0, 0, 0.3));\n",
              "        fill: #FFFFFF;\n",
              "      }\n",
              "    </style>\n",
              "    <button class=\"colab-df-generate\" onclick=\"generateWithVariable('dataset')\"\n",
              "            title=\"Generate code using this dataframe.\"\n",
              "            style=\"display:none;\">\n",
              "\n",
              "  <svg xmlns=\"http://www.w3.org/2000/svg\" height=\"24px\"viewBox=\"0 0 24 24\"\n",
              "       width=\"24px\">\n",
              "    <path d=\"M7,19H8.4L18.45,9,17,7.55,7,17.6ZM5,21V16.75L18.45,3.32a2,2,0,0,1,2.83,0l1.4,1.43a1.91,1.91,0,0,1,.58,1.4,1.91,1.91,0,0,1-.58,1.4L9.25,21ZM18.45,9,17,7.55Zm-12,3A5.31,5.31,0,0,0,4.9,8.1,5.31,5.31,0,0,0,1,6.5,5.31,5.31,0,0,0,4.9,4.9,5.31,5.31,0,0,0,6.5,1,5.31,5.31,0,0,0,8.1,4.9,5.31,5.31,0,0,0,12,6.5,5.46,5.46,0,0,0,6.5,12Z\"/>\n",
              "  </svg>\n",
              "    </button>\n",
              "    <script>\n",
              "      (() => {\n",
              "      const buttonEl =\n",
              "        document.querySelector('#id_58fcc8d6-2518-4206-9089-c5460d42ac0d button.colab-df-generate');\n",
              "      buttonEl.style.display =\n",
              "        google.colab.kernel.accessAllowed ? 'block' : 'none';\n",
              "\n",
              "      buttonEl.onclick = () => {\n",
              "        google.colab.notebook.generateWithVariable('dataset');\n",
              "      }\n",
              "      })();\n",
              "    </script>\n",
              "  </div>\n",
              "\n",
              "    </div>\n",
              "  </div>\n"
            ],
            "application/vnd.google.colaboratory.intrinsic+json": {
              "type": "dataframe",
              "variable_name": "dataset",
              "summary": "{\n  \"name\": \"dataset\",\n  \"rows\": 5654,\n  \"fields\": [\n    {\n      \"column\": \"Field_ID\",\n      \"properties\": {\n        \"dtype\": \"number\",\n        \"std\": 13133,\n        \"min\": 1,\n        \"max\": 45153,\n        \"num_unique_values\": 5654,\n        \"samples\": [\n          9189,\n          34107,\n          6072\n        ],\n        \"semantic_type\": \"\",\n        \"description\": \"\"\n      }\n    },\n    {\n      \"column\": \"Elevation\",\n      \"properties\": {\n        \"dtype\": \"number\",\n        \"std\": 173.57393413611743,\n        \"min\": 35.910797,\n        \"max\": 1122.2521,\n        \"num_unique_values\": 5645,\n        \"samples\": [\n          649.5447,\n          742.4448,\n          957.82654\n        ],\n        \"semantic_type\": \"\",\n        \"description\": \"\"\n      }\n    },\n    {\n      \"column\": \"Latitude\",\n      \"properties\": {\n        \"dtype\": \"number\",\n        \"std\": 3.515839110419971,\n        \"min\": -15.009038339402393,\n        \"max\": 0.2607560316510433,\n        \"num_unique_values\": 2551,\n        \"samples\": [\n          -9.660780470284532,\n          -9.877053745531082,\n          -3.578094603975256\n        ],\n        \"semantic_type\": \"\",\n        \"description\": \"\"\n      }\n    },\n    {\n      \"column\": \"Longitude\",\n      \"properties\": {\n        \"dtype\": \"number\",\n        \"std\": 2.7066032511033717,\n        \"min\": -10.015721981691415,\n        \"max\": 1.6962756831418633,\n        \"num_unique_values\": 2076,\n        \"samples\": [\n          -6.37599347662015,\n          -7.686836292184183,\n          -7.1507871682937365\n        ],\n        \"semantic_type\": \"\",\n        \"description\": \"\"\n      }\n    },\n    {\n      \"column\": \"Location\",\n      \"properties\": {\n        \"dtype\": \"category\",\n        \"num_unique_values\": 5,\n        \"samples\": [\n          \"Rural_Sokoto\",\n          \"Rural_Amanzi\",\n          \"Rural_Kilimani\"\n        ],\n        \"semantic_type\": \"\",\n        \"description\": \"\"\n      }\n    },\n    {\n      \"column\": \"Slope\",\n      \"properties\": {\n        \"dtype\": \"number\",\n        \"std\": 9.540598850901198,\n        \"min\": 0.09731625,\n        \"max\": 79.86596,\n        \"num_unique_values\": 5644,\n        \"samples\": [\n          19.474495,\n          13.856847,\n          12.980159\n        ],\n        \"semantic_type\": \"\",\n        \"description\": \"\"\n      }\n    },\n    {\n      \"column\": \"Rainfall\",\n      \"properties\": {\n        \"dtype\": \"number\",\n        \"std\": 499.78282373786874,\n        \"min\": 103.1,\n        \"max\": 2470.9,\n        \"num_unique_values\": 4792,\n        \"samples\": [\n          1410.5,\n          1258.8,\n          799.7\n        ],\n        \"semantic_type\": \"\",\n        \"description\": \"\"\n      }\n    },\n    {\n      \"column\": \"Min_temperature_C\",\n      \"properties\": {\n        \"dtype\": \"number\",\n        \"std\": 1.5343298246505992,\n        \"min\": -9.7,\n        \"max\": -0.0999999999999996,\n        \"num_unique_values\": 90,\n        \"samples\": [\n          -5.0,\n          -6.0,\n          -2.1\n        ],\n        \"semantic_type\": \"\",\n        \"description\": \"\"\n      }\n    },\n    {\n      \"column\": \"Max_temperature_C\",\n      \"properties\": {\n        \"dtype\": \"number\",\n        \"std\": 1.8846824264358548,\n        \"min\": 24.5,\n        \"max\": 37.8,\n        \"num_unique_values\": 119,\n        \"samples\": [\n          26.5,\n          35.5,\n          31.0\n        ],\n        \"semantic_type\": \"\",\n        \"description\": \"\"\n      }\n    },\n    {\n      \"column\": \"Ave_temps\",\n      \"properties\": {\n        \"dtype\": \"number\",\n        \"std\": 0.801636264815536,\n        \"min\": 10.25,\n        \"max\": 17.3,\n        \"num_unique_values\": 154,\n        \"samples\": [\n          13.8,\n          11.95,\n          15.250000000000002\n        ],\n        \"semantic_type\": \"\",\n        \"description\": \"\"\n      }\n    },\n    {\n      \"column\": \"Soil_fertility\",\n      \"properties\": {\n        \"dtype\": \"number\",\n        \"std\": 0.044790915200934714,\n        \"min\": 0.51,\n        \"max\": 0.82,\n        \"num_unique_values\": 32,\n        \"samples\": [\n          0.52,\n          0.53,\n          0.78\n        ],\n        \"semantic_type\": \"\",\n        \"description\": \"\"\n      }\n    },\n    {\n      \"column\": \"Soil_type\",\n      \"properties\": {\n        \"dtype\": \"category\",\n        \"num_unique_values\": 6,\n        \"samples\": [\n          \"Sandy\",\n          \"Volcanic\",\n          \"Rocky\"\n        ],\n        \"semantic_type\": \"\",\n        \"description\": \"\"\n      }\n    },\n    {\n      \"column\": \"pH\",\n      \"properties\": {\n        \"dtype\": \"number\",\n        \"std\": 0.7892145961383743,\n        \"min\": 3.700337047698453,\n        \"max\": 7.499959152017819,\n        \"num_unique_values\": 5654,\n        \"samples\": [\n          5.572066413216229,\n          5.09807338935409,\n          5.423996802216155\n        ],\n        \"semantic_type\": \"\",\n        \"description\": \"\"\n      }\n    },\n    {\n      \"column\": \"Pollution_level\",\n      \"properties\": {\n        \"dtype\": \"number\",\n        \"std\": 0.2237976479194151,\n        \"min\": 1.0132452836581183e-10,\n        \"max\": 0.9954133959472448,\n        \"num_unique_values\": 5645,\n        \"samples\": [\n          0.0283660966397757,\n          0.3588946303697961,\n          0.2690225216555638\n        ],\n        \"semantic_type\": \"\",\n        \"description\": \"\"\n      }\n    },\n    {\n      \"column\": \"Plot_size\",\n      \"properties\": {\n        \"dtype\": \"number\",\n        \"std\": 3.463854516577204,\n        \"min\": 0.5,\n        \"max\": 15.0,\n        \"num_unique_values\": 146,\n        \"samples\": [\n          12.3,\n          7.7,\n          4.7\n        ],\n        \"semantic_type\": \"\",\n        \"description\": \"\"\n      }\n    },\n    {\n      \"column\": \"Annual_yield\",\n      \"properties\": {\n        \"dtype\": \"number\",\n        \"std\": 1.9350000624987642,\n        \"min\": 0.1722256547293427,\n        \"max\": 12.695223852226984,\n        \"num_unique_values\": 5654,\n        \"samples\": [\n          1.9636739701941215,\n          2.6030852126383133,\n          0.956310563388249\n        ],\n        \"semantic_type\": \"\",\n        \"description\": \"\"\n      }\n    },\n    {\n      \"column\": \"Crop_type\",\n      \"properties\": {\n        \"dtype\": \"category\",\n        \"num_unique_values\": 8,\n        \"samples\": [\n          \"tea\",\n          \"coffee\",\n          \"cassava\"\n        ],\n        \"semantic_type\": \"\",\n        \"description\": \"\"\n      }\n    },\n    {\n      \"column\": \"Standard_yield\",\n      \"properties\": {\n        \"dtype\": \"number\",\n        \"std\": 0.11180585441701675,\n        \"min\": 0.17071727803873102,\n        \"max\": 0.8980374010422381,\n        \"num_unique_values\": 5654,\n        \"samples\": [\n          0.4462895386804821,\n          0.6507713031595783,\n          0.531283646326805\n        ],\n        \"semantic_type\": \"\",\n        \"description\": \"\"\n      }\n    }\n  ]\n}"
            }
          },
          "metadata": {},
          "execution_count": 4
        }
      ],
      "source": [
        "dataset"
      ]
    },
    {
      "cell_type": "markdown",
      "metadata": {
        "id": "8U7NZNNLciJi"
      },
      "source": [
        "Before diving into our analysis, it's crucial to ensure the integrity of our dataset and that the data is still as we expect it to be."
      ]
    },
    {
      "cell_type": "code",
      "execution_count": 5,
      "metadata": {
        "colab": {
          "base_uri": "https://localhost:8080/"
        },
        "id": "QojsqIEJciJi",
        "outputId": "91e67858-91f8-4013-df82-2ce424dc8f0f"
      },
      "outputs": [
        {
          "output_type": "stream",
          "name": "stdout",
          "text": [
            "\u001b[1m======================================= test session starts ========================================\u001b[0m\n",
            "platform linux -- Python 3.10.12, pytest-8.3.3, pluggy-1.5.0 -- /usr/bin/python3\n",
            "cachedir: .pytest_cache\n",
            "rootdir: /content\n",
            "plugins: anyio-3.7.1, typeguard-4.4.1\n",
            "collected 4 items                                                                                  \u001b[0m\n",
            "\n",
            "validate_data.py::test_read_field_dataframe_shape \u001b[32mPASSED\u001b[0m\u001b[32m                                     [ 25%]\u001b[0m\n",
            "validate_data.py::test_field_dataframe_columns \u001b[32mPASSED\u001b[0m\u001b[32m                                        [ 50%]\u001b[0m\n",
            "validate_data.py::test_field_dataframe_non_negative_elevation \u001b[32mPASSED\u001b[0m\u001b[32m                         [ 75%]\u001b[0m\n",
            "validate_data.py::test_crop_types_are_valid \u001b[32mPASSED\u001b[0m\u001b[32m                                           [100%]\u001b[0m\n",
            "\n",
            "\u001b[32m======================================== \u001b[32m\u001b[1m4 passed\u001b[0m\u001b[32m in 0.52s\u001b[0m\u001b[32m =========================================\u001b[0m\n",
            "Deleted sampled_field_df.csv\n"
          ]
        }
      ],
      "source": [
        "# Validate the data\n",
        "# !pip install pytest\n",
        "\n",
        "dataset.to_csv('sampled_field_df.csv', index=False)\n",
        "\n",
        "!pytest validate_data.py -v\n",
        "\n",
        "import os# Define the file paths\n",
        "field_csv_path = 'sampled_field_df.csv'\n",
        "\n",
        "# Delete sampled_field_df.csv if it exists\n",
        "if os.path.exists(field_csv_path):\n",
        "    os.remove(field_csv_path)\n",
        "    print(f\"Deleted {field_csv_path}\")\n",
        "else:\n",
        "    print(f\"{field_csv_path} does not exist.\")"
      ]
    },
    {
      "cell_type": "markdown",
      "metadata": {
        "id": "2MPsa9XGciJi"
      },
      "source": [
        "# Analysis"
      ]
    },
    {
      "cell_type": "markdown",
      "metadata": {
        "id": "Ei58RZG6ciJi"
      },
      "source": [
        "## Challenge 1: Visualising the relationship"
      ]
    },
    {
      "cell_type": "markdown",
      "metadata": {
        "id": "xuG2I1a3ciJi"
      },
      "source": [
        "With our data ready and loaded, it's time to start exploring.\n",
        "\n",
        "Our goal is to determine whether any of the features in our dataset are influencing the `Standard_yield` of a farm. If we can figure out what these relationships are, then we can use them to start predicting what future yields will be, based on these features.\n",
        "\n",
        "For this analysis, we want to find whether any features have a linear relationship with `Standard_yield` so that we can fit a linear regression model to the data. This is important because if we try and fit a linear regression model to non-linear data, our predictions won't be good.\n",
        "\n",
        "Any of the features could have an impact on the `Standard_yield`. Let's begin with `Ave_temps`, the average temperature of the region, and its relationship to `Standard_yield`.\n",
        "\n",
        "Let's start with the basics: a scatter plot.\n"
      ]
    },
    {
      "cell_type": "markdown",
      "metadata": {
        "id": "Zq6fc0ZiciJi"
      },
      "source": [
        "**⚙️ Your task:**\n",
        "\n",
        " 1. Generate a scatter plot to visualise the relationship between `Ave_temps` and `Standard_yield`.\n",
        " 2. Reflect on the scatter plot. Does it suggest a linear relationship, or is the story more complex?\n",
        "\n",
        "**Note:**\n",
        "- Use `matplotlib` to create the scatter plot."
      ]
    },
    {
      "cell_type": "code",
      "execution_count": 6,
      "metadata": {
        "id": "zU5vx8UwciJj"
      },
      "outputs": [],
      "source": [
        "import matplotlib.pyplot as plt"
      ]
    },
    {
      "cell_type": "code",
      "execution_count": 7,
      "metadata": {
        "colab": {
          "base_uri": "https://localhost:8080/",
          "height": 472
        },
        "id": "Xbrsd9sbciJj",
        "outputId": "bfb972d1-fa76-41f0-ebbd-3941cb1eea46"
      },
      "outputs": [
        {
          "output_type": "display_data",
          "data": {
            "text/plain": [
              "<Figure size 640x480 with 1 Axes>"
            ],
            "image/png": "[encoded data removed]"
          },
          "metadata": {}
        }
      ],
      "source": [
        "# Insert code to draw a scatter plot here\n",
        "plt.scatter(dataset[\"Ave_temps\"], dataset[\"Standard_yield\"])\n",
        "plt.title(\"Relationship between Ave_temps and Standard_yield\")\n",
        "plt.xlabel(\"Ave_temps\")\n",
        "plt.ylabel(\"Standard_yield\")\n",
        "plt.show()"
      ]
    },
    {
      "cell_type": "markdown",
      "metadata": {
        "id": "aRFyT7nvciJj"
      },
      "source": [
        "Now, let's write a function to calculate the Pearson correlation coefficient.\n",
        "\n",
        "**⚙️ Your task:**\n",
        "\n",
        "Create a function named `get_correlation` that:\n",
        "1. Takes a DataFrame and the names of the columns we want to determine the correlation for as parameters (`Ave_temps` and `Standard_yield`).\n",
        "2. Calculates the Pearson correlation coefficient between these two columns to quantify their linear relationship.\n",
        "4. Returns the Pearson correlation coefficient.\n",
        "\n",
        "**Note:**\n",
        "- Use `scipy` to calculate the Pearson correlation coefficient.\n",
        "- Ensure your function returns the Pearson correlation coefficient as a float."
      ]
    },
    {
      "cell_type": "code",
      "execution_count": 8,
      "metadata": {
        "id": "0uYZ_A9hciJj"
      },
      "outputs": [],
      "source": [
        "from scipy.stats import pearsonr"
      ]
    },
    {
      "cell_type": "code",
      "execution_count": 9,
      "metadata": {
        "id": "YDw5j0m0ciJj"
      },
      "outputs": [],
      "source": [
        "### START FUNCTION\n",
        "def get_correlation(df, col1, col2):\n",
        "    regression = pearsonr(df[col1], df[col2])\n",
        "    return regression[0]\n",
        "\n",
        "\n",
        "\n",
        "\n",
        "### END FUNCTION"
      ]
    },
    {
      "cell_type": "markdown",
      "metadata": {
        "id": "kkPpnBRwciJj"
      },
      "source": [
        "Input:"
      ]
    },
    {
      "cell_type": "code",
      "execution_count": 10,
      "metadata": {
        "colab": {
          "base_uri": "https://localhost:8080/"
        },
        "id": "b6dgBln0ciJj",
        "outputId": "edfdd680-24bb-44c1-8e21-e50165c69e14"
      },
      "outputs": [
        {
          "output_type": "stream",
          "name": "stdout",
          "text": [
            "Pearson correlation coefficient: 0.006785950289020186\n"
          ]
        }
      ],
      "source": [
        "correlation = get_correlation(dataset,'Ave_temps','Standard_yield')\n",
        "print(\"Pearson correlation coefficient:\", correlation)"
      ]
    },
    {
      "cell_type": "markdown",
      "metadata": {
        "id": "1jE4rmBNciJj"
      },
      "source": [
        "Expected output\n",
        "```\n",
        "Correlation: 0.006785950289020164\n",
        "```"
      ]
    },
    {
      "cell_type": "markdown",
      "metadata": {
        "id": "Y924NSQ6ciJk"
      },
      "source": [
        "What do you notice about the scatter plot and the dispersion of data points? It's essential to visualise our data first; if the data doesn't follow a linear pattern, then a linear regression model may fail to accurately capture the underlying relationship. The correlation also seems extremly low, what does this tell us?\n",
        "\n",
        "Let's write down some of our observations:\n",
        "\n",
        "  - ✍️ Your notes here"
      ]
    },
    {
      "cell_type": "markdown",
      "metadata": {
        "id": "vElmNLX-ciJk"
      },
      "source": [
        "## Challenge 2: A breath of fresh data: Pollution as a predictor\n"
      ]
    },
    {
      "cell_type": "markdown",
      "metadata": {
        "id": "WLThRDb-ciJk"
      },
      "source": [
        "It's time to shift our gaze from the warmth of the sun to the haze of pollution. Could the levels of pollution, a concern for farmers and environmentalists alike, be an indicator of our yields?\n",
        "\n",
        "Let's begin by fitting a simple linear regression model, to try and capture the linear relationship between these columns.\n",
        "\n",
        "**⚙️ Your task:**\n",
        "\n",
        "Create a function named `fit_linear_regression_model` that:\n",
        "1. Takes in a DataFrame and the names of the `Pollution_level` and `Standard_yield` columns.\n",
        "2. Fits a linear regression model to the data.\n",
        "3. Returns the model, the model predictions and the actual y-values.\n",
        "\n",
        "**Note:**\n",
        "- Use `LinearRegression` from `sklearn` to fit the model."
      ]
    },
    {
      "cell_type": "code",
      "execution_count": 11,
      "metadata": {
        "id": "ay7kf5f4ciJk"
      },
      "outputs": [],
      "source": [
        "from sklearn.linear_model import LinearRegression"
      ]
    },
    {
      "cell_type": "code",
      "execution_count": 13,
      "metadata": {
        "id": "huHga0UGciJk"
      },
      "outputs": [],
      "source": [
        "### START FUNCTION\n",
        "def fit_linear_regression_model(df, pollution_col, yield_col):\n",
        "    lm = LinearRegression()\n",
        "    X = df[pollution_col]\n",
        "    lm.fit(X.values.reshape(-1, 1), df[yield_col])\n",
        "    predictions = lm.predict(X.values.reshape(-1, 1))\n",
        "    return lm, predictions, df[yield_col]\n",
        "\n",
        "\n",
        "\n",
        "### END FUNCTION"
      ]
    },
    {
      "cell_type": "markdown",
      "metadata": {
        "id": "nv1sv_sqciJk"
      },
      "source": [
        "Input:"
      ]
    },
    {
      "cell_type": "code",
      "execution_count": 14,
      "metadata": {
        "colab": {
          "base_uri": "https://localhost:8080/"
        },
        "id": "4832BQXEciJk",
        "outputId": "6c527847-f2df-4d91-cf09-f60f84ea789a"
      },
      "outputs": [
        {
          "output_type": "stream",
          "name": "stdout",
          "text": [
            "Model: LinearRegression()\n",
            "Predictions: [0.5540956  0.50920888 0.51515565 ... 0.56626844 0.56626844 0.52896886]\n",
            "Actual Y-Values: 0       0.577964\n",
            "1       0.486302\n",
            "2       0.649647\n",
            "3       0.532348\n",
            "4       0.555076\n",
            "          ...   \n",
            "5649    0.554482\n",
            "5650    0.438194\n",
            "5651    0.800776\n",
            "5652    0.507595\n",
            "5653    0.453064\n",
            "Name: Standard_yield, Length: 5654, dtype: float64\n"
          ]
        }
      ],
      "source": [
        "model, predictions, y_values = fit_linear_regression_model(dataset, 'Pollution_level', 'Standard_yield')\n",
        "print(f\"Model: {model}\")\n",
        "print(f\"Predictions: {predictions}\")\n",
        "print(f\"Actual Y-Values: {y_values}\")"
      ]
    },
    {
      "cell_type": "markdown",
      "metadata": {
        "id": "A0Mhi6_sciJk"
      },
      "source": [
        "Expected output:\n",
        "```\n",
        "- Model: an instance of the LinearRegression class.\n",
        "- Predictions: a NumPy array of predicted values.\n",
        "- y: a Pandas Series with the actual target values used for training.\n",
        "```"
      ]
    },
    {
      "cell_type": "markdown",
      "metadata": {
        "id": "5KGc1YGyciJl"
      },
      "source": [
        "Linear regression models only work well if our data is in fact linear. So, lets create a scatter plot to visualise the relationship between pollution and crop yields. In addition to this, let's use the predictions from the model we fit to add the line of best fit to our scatter plot.\n",
        "\n",
        "**⚙️ Your task:**\n",
        "\n",
        "1. Generate a scatter plot to visualise the effect that pollution has on standard yield.\n",
        "2. Draw the line of best fit\n",
        "\n",
        "**Hint:**\n",
        "\n",
        "You can use this line of code to draw the regression line on the plot:\n",
        "`plt.plot(X, predictions, color='red', label='Regression line')`"
      ]
    },
    {
      "cell_type": "code",
      "execution_count": 15,
      "metadata": {
        "colab": {
          "base_uri": "https://localhost:8080/",
          "height": 430
        },
        "id": "z9WMCBhTciJl",
        "outputId": "84e16164-f831-47fd-f6ca-caca379d07bd"
      },
      "outputs": [
        {
          "output_type": "display_data",
          "data": {
            "text/plain": [
              "<Figure size 640x480 with 1 Axes>"
            ],
            "image/png": "[encoded data removed]"
          },
          "metadata": {}
        }
      ],
      "source": [
        "X = dataset[['Pollution_level']]\n",
        "y = dataset['Standard_yield']\n",
        "\n",
        "# Add code to draw the scatter plot and the regression line\n",
        "plt.scatter(X, y, label=\"Data\")\n",
        "plt.plot(X, predictions, color='red', label='Regression line')\n",
        "plt.legend()\n",
        "plt.show()"
      ]
    },
    {
      "cell_type": "markdown",
      "metadata": {
        "id": "glsPEgPtciJl"
      },
      "source": [
        "Now, use the get_correlation() function that we defined earlier to test the correlation between `Pollution_level` and `Standard_yield`."
      ]
    },
    {
      "cell_type": "code",
      "execution_count": 16,
      "metadata": {
        "colab": {
          "base_uri": "https://localhost:8080/"
        },
        "id": "eQZiz5QDciJq",
        "outputId": "c1a93811-2672-410c-d2b8-a21dccaeb26d"
      },
      "outputs": [
        {
          "output_type": "stream",
          "name": "stdout",
          "text": [
            "Pearson correlation coefficient: -0.2857609646210545\n"
          ]
        }
      ],
      "source": [
        "Pollution_correlation = get_correlation(dataset,'Pollution_level','Standard_yield')\n",
        "print(\"Pearson correlation coefficient:\", Pollution_correlation)"
      ]
    },
    {
      "cell_type": "markdown",
      "metadata": {
        "id": "RFyK_N4sciJr"
      },
      "source": [
        "Expected output\n",
        "```\n",
        "Correlation: -0.2857609646210543\n",
        "```"
      ]
    },
    {
      "cell_type": "markdown",
      "metadata": {
        "id": "YN_sKDGWciJr"
      },
      "source": [
        "Reflect on the difference between this plot and correlation and the previous one with the average temperature. Is the relationship between pollution and yield more linear?\n",
        "\n",
        "  - ✍️ Your notes here"
      ]
    },
    {
      "cell_type": "markdown",
      "metadata": {
        "id": "Svv8An9TciJr"
      },
      "source": [
        "\n",
        "We can also gain a better understanding of our model by examining the slope and intercept.\n",
        "\n",
        "**⚙️ Your task:**\n",
        "\n",
        "Create a function named `get_slope_intercept` that:\n",
        "1. Inputs the `model` we fitted and calculates the slope and intercept of the line of best fit.\n",
        "2. Return the slope and intercept as a tuple.\n"
      ]
    },
    {
      "cell_type": "code",
      "execution_count": 17,
      "metadata": {
        "id": "AoRoH8z9ciJr"
      },
      "outputs": [],
      "source": [
        "### START FUNCTION\n",
        "def get_slope_intercept(model):\n",
        "    slope = model.coef_[0]\n",
        "    intercept = model.intercept_\n",
        "    return slope, intercept\n",
        "\n",
        "\n",
        "### END FUNCTION"
      ]
    },
    {
      "cell_type": "markdown",
      "metadata": {
        "id": "KO5ZqLsJciJr"
      },
      "source": [
        "Input:"
      ]
    },
    {
      "cell_type": "code",
      "execution_count": 18,
      "metadata": {
        "colab": {
          "base_uri": "https://localhost:8080/"
        },
        "id": "WR2WKwEGciJs",
        "outputId": "9177f123-c691-4c1a-b27a-021247f81559"
      },
      "outputs": [
        {
          "output_type": "stream",
          "name": "stdout",
          "text": [
            "Slope: -0.1427617720986607\n",
            "Intercept: 0.566268441539338\n"
          ]
        }
      ],
      "source": [
        "slope, intercept = get_slope_intercept(model)\n",
        "print(\"Slope:\", slope)\n",
        "print(\"Intercept:\", intercept)"
      ]
    },
    {
      "cell_type": "markdown",
      "metadata": {
        "id": "V0y6sbdTciJs"
      },
      "source": [
        "Expected output:\n",
        "```\n",
        "Slope: -0.1427617720986604\n",
        "Intercept: 0.5662684415393379\n",
        "```"
      ]
    },
    {
      "cell_type": "markdown",
      "metadata": {
        "id": "8cJ-6qsTciJs"
      },
      "source": [
        "\n",
        "What does the slope tell us about the strength of the relationship between pollution and yield? Also, what can we learn from the y-intercept?\n",
        "\n",
        "  - ✍️ Your notes here\n"
      ]
    },
    {
      "cell_type": "markdown",
      "metadata": {
        "id": "bN9fVQp_ciJs"
      },
      "source": [
        "## Challenge 3: The haze clears: Evaluating pollution's predictive power"
      ]
    },
    {
      "cell_type": "markdown",
      "metadata": {
        "id": "ySNaX6bTciJs"
      },
      "source": [
        "When we look at the scatterplots of `Standard_yield` with `Ave_temps` and `Pollution_level`, it appears that pollution level might have a more linear relationship.  This means that we could potentially use a simple linear regression model to make predictions about the yield of a farm based on its pollution level. However, before we do this we need to further assess the strength of the linear relationship between `Pollution_level` and `Standard_yield`.\n",
        "\n",
        "Let's assess our model's performance using R-squared, Mean Absolute Error (MAE), Mean Squared Error (MSE), and Root Mean Squared Error (RMSE).\n",
        "\n",
        "**⚙️ Your task:**\n",
        "\n",
        "Create a function named `calculate_evaluation_metrics` that:\n",
        "1. Takes the predictions and y-values from our fitted model as input.\n",
        "2. Calculates and returns the R-squared, Mean Absolute Error (MAE), Mean Squared Error (MSE), and Root Mean Squared Error (RMSE) of the model's performance.\n",
        "\n",
        "**Note:**\n",
        "1. Calculate the model's performance metrics using the entire dataset.\n",
        "2. Return the evaluation metrics as a tuple in the order: R-squared, MAE, MSE, RMSE."
      ]
    },
    {
      "cell_type": "code",
      "execution_count": 19,
      "metadata": {
        "id": "LaPPY5CCciJs"
      },
      "outputs": [],
      "source": [
        "from sklearn.metrics import r2_score, mean_absolute_error, mean_squared_error\n",
        "import numpy as np"
      ]
    },
    {
      "cell_type": "code",
      "execution_count": 20,
      "metadata": {
        "id": "f2hSIrHcciJt"
      },
      "outputs": [],
      "source": [
        "### START FUNCTION\n",
        "def calculate_evaluation_metrics(predictions, y_values):\n",
        "    r_squared = r2_score(y_values, predictions)\n",
        "    mae = mean_absolute_error(y_values, predictions)\n",
        "    mse = mean_squared_error(y_values, predictions)\n",
        "    rmse = np.sqrt(mse)\n",
        "    return r_squared, mae, mse, rmse\n",
        "\n",
        "\n",
        "\n",
        "\n",
        "### END FUNCTION"
      ]
    },
    {
      "cell_type": "markdown",
      "metadata": {
        "id": "vDWkqRDuciJt"
      },
      "source": [
        "Input:"
      ]
    },
    {
      "cell_type": "code",
      "execution_count": 21,
      "metadata": {
        "colab": {
          "base_uri": "https://localhost:8080/"
        },
        "id": "XwEiZgkWciJt",
        "outputId": "ed9d7488-04f8-4708-8a5b-d551b273ea7d"
      },
      "outputs": [
        {
          "output_type": "stream",
          "name": "stdout",
          "text": [
            "Evaluation Metrics:\n",
            "R-squared: 0.08165932890115568\n",
            "MAE: 0.08554642090904993\n",
            "MSE: 0.011477732254034844\n",
            "RMSE: 0.10713417873878926\n"
          ]
        }
      ],
      "source": [
        "evaluation_metrics = calculate_evaluation_metrics(predictions, y_values)\n",
        "print(f\"Evaluation Metrics:\\nR-squared: {evaluation_metrics[0]}\\nMAE: {evaluation_metrics[1]}\\nMSE: {evaluation_metrics[2]}\\nRMSE: {evaluation_metrics[3]}\")"
      ]
    },
    {
      "cell_type": "markdown",
      "metadata": {
        "id": "ClGqRHswciJt"
      },
      "source": [
        "Expected output:\n",
        "\n",
        "A tuple containing numerical values for R-squared, MAE, MSE, and RMSE (give or take 0.0001):\n",
        "\n",
        "```python\n",
        "R-squared: 0.08165932890115546\n",
        "MAE: 0.08554642090904992\n",
        "MSE: 0.011477732254034848\n",
        "RMSE: 0.10713417873878928\n",
        "\n",
        "```"
      ]
    },
    {
      "cell_type": "markdown",
      "metadata": {
        "id": "r72Js-DwciJt"
      },
      "source": [
        "Think about what these metrics tell us about our model's accuracy and reliability. Write down your observations:\n",
        "\n",
        "  - ✍️ Your notes here\n"
      ]
    },
    {
      "cell_type": "markdown",
      "metadata": {
        "id": "Tn-Uhr5mciJt"
      },
      "source": [
        "## Challenge 4: The dividing line: Train-test split in action"
      ]
    },
    {
      "cell_type": "markdown",
      "metadata": {
        "id": "Sye7yA7uciJu"
      },
      "source": [
        "As we delve deeper into the relationship between `Pollution_level` and `Standard_yield`, we must ensure our model is not merely memorising the data but truly understanding it. This brings us to the pivotal technique of Train-Test Split.\n",
        "\n",
        "**The importance of train-test split**\n",
        "\n",
        "Imagine teaching a student for an exam by using the very questions that will appear on it. They might score perfectly, but does it mean they've truly learned? Similarly, a model might perform exceptionally on the data it was trained on, but the real test of knowledge comes from unseen data. This is where the train-test split comes in, allowing us to assess our model's generalisation capabilities by training on one subset of data and testing on another.\n",
        "\n",
        "**Your task**\n",
        "\n",
        "Create a function named `data_train_test_split` that:\n",
        "1. Takes in the DataFrame and the two columns we want to model the relationship between (`Pollution_level` and `Standard_yield`).\n",
        "2. Separates it into features (`X`) based on `Pollution_level` and the target (`y`) based on `Standard_yield`.\n",
        "3. Splits the data into training and testing sets using an 80-20 split and sets `random_state = 42` for reproducibility.\n",
        "4.  Returns a tuple containing: `X_train` and `X_test`, which are DataFrames containing features for training and testing, respectively, along with `y_train` and `y_test`, which are Series representing subsets of the original DataFrame's target variable for training and testing.\n",
        "\n",
        "**Note:**\n",
        "- Use `train_test_split` from `sklearn.model_selection` to split the data.\n",
        "- Train a linear regression model on the training set using `LinearRegression` from `sklearn.linear_model`.\n",
        "- If the random state is not set to `42` the code will not be marked correctly."
      ]
    },
    {
      "cell_type": "code",
      "execution_count": 22,
      "metadata": {
        "id": "DP3jBuU4ciJu"
      },
      "outputs": [],
      "source": [
        "from sklearn.model_selection import train_test_split"
      ]
    },
    {
      "cell_type": "code",
      "execution_count": 23,
      "metadata": {
        "id": "BDSGdTmiciJu"
      },
      "outputs": [],
      "source": [
        "### START FUNCTION\n",
        "def data_train_test_split(df, pollution_col, yield_col):\n",
        "    X = df[pollution_col]\n",
        "    y = df[yield_col]\n",
        "    X_train, X_test, y_train, y_test = train_test_split(X, y, test_size=0.2, random_state=42)\n",
        "    return X_train, X_test, y_train, y_test\n",
        "\n",
        "\n",
        "\n",
        "### END FUNCTION"
      ]
    },
    {
      "cell_type": "markdown",
      "metadata": {
        "id": "BJLI4DP3ciJu"
      },
      "source": [
        "Input:"
      ]
    },
    {
      "cell_type": "code",
      "execution_count": 24,
      "metadata": {
        "colab": {
          "base_uri": "https://localhost:8080/"
        },
        "id": "hdFpWi47ciJu",
        "outputId": "2c851298-bbd4-4347-f88a-8d9e64a7cbb8"
      },
      "outputs": [
        {
          "output_type": "stream",
          "name": "stdout",
          "text": [
            "X_train shape: (4523,), X_test shape: (1131,)\n",
            "y_train shape: (4523,), y_test shape: (1131,)\n"
          ]
        }
      ],
      "source": [
        "X_train, X_test, y_train, y_test = data_train_test_split(dataset, 'Pollution_level', 'Standard_yield')\n",
        "print(f\"X_train shape: {X_train.shape}, X_test shape: {X_test.shape}\")\n",
        "print(f\"y_train shape: {y_train.shape}, y_test shape: {y_test.shape}\")"
      ]
    },
    {
      "cell_type": "markdown",
      "metadata": {
        "id": "SurpIPjVciJu"
      },
      "source": [
        "Expected output:\n",
        "```\n",
        "- X_train: DataFrame, subset of the original DataFrame's features for training.\n",
        "- X_test: DataFrame, subset of the original DataFrame's features for testing.\n",
        "- y_train: Series, subset of the original DataFrame's target variable for training.\n",
        "- y_test: Series, subset of the original DataFrame's target variable for testing.\n",
        "```"
      ]
    },
    {
      "cell_type": "markdown",
      "metadata": {
        "id": "7VmGXjSZciJv"
      },
      "source": [
        "Now lets fit a linear regression model to the data.\n",
        "\n",
        "**Your task**\n",
        "\n",
        "Create a function named `train_split_linear_regression_model()` that:\n",
        "1. Takes `X_train`, `X_test`, `y_train`, `y_test` as input (the results from the `data_train_test_split()` function).\n",
        "2. Trains a simple linear regression model on the training set.\n",
        "3. Uses the testing set to make predictions.\n",
        "4. Returns a tuple containing: the model, the predictions and y_test (the actual y values in the testing set values) ."
      ]
    },
    {
      "cell_type": "code",
      "execution_count": 25,
      "metadata": {
        "id": "GmPQrQttciJv"
      },
      "outputs": [],
      "source": [
        "from sklearn.linear_model import LinearRegression"
      ]
    },
    {
      "cell_type": "code",
      "execution_count": 28,
      "metadata": {
        "id": "25rCBDSYciJv"
      },
      "outputs": [],
      "source": [
        "### START FUNCTION\n",
        "def train_split_linear_regression_model(X_train, X_test, y_train, y_test):\n",
        "    model = LinearRegression()\n",
        "    model.fit(X_train.values.reshape(-1, 1), y_train)\n",
        "    predictions_test = model.predict(X_test.values.reshape(-1, 1))\n",
        "    return model, predictions_test, y_test\n",
        "\n",
        "\n",
        "\n",
        "\n",
        "### END FUNCTION"
      ]
    },
    {
      "cell_type": "markdown",
      "metadata": {
        "id": "j_Wwrc5kciJv"
      },
      "source": [
        "Input:"
      ]
    },
    {
      "cell_type": "code",
      "execution_count": 29,
      "metadata": {
        "colab": {
          "base_uri": "https://localhost:8080/"
        },
        "id": "-cJB2BqDciJv",
        "outputId": "32e53512-a445-44e3-df5a-bf3c04f02df0"
      },
      "outputs": [
        {
          "output_type": "stream",
          "name": "stdout",
          "text": [
            "Train-Test Model: LinearRegression()\n",
            "Test Predictions: [0.56412206 0.56167249 0.55638552 ... 0.53129108 0.53868457 0.56431394]\n",
            "Test Actual Y-Values: 4816    0.446290\n",
            "5096    0.650771\n",
            "4706    0.531284\n",
            "1499    0.516429\n",
            "3544    0.555724\n",
            "          ...   \n",
            "3982    0.540212\n",
            "4952    0.670387\n",
            "1071    0.353658\n",
            "718     0.535224\n",
            "4103    0.470315\n",
            "Name: Standard_yield, Length: 1131, dtype: float64\n"
          ]
        }
      ],
      "source": [
        "train_test_model, predictions_test, y_test = train_split_linear_regression_model(X_train, X_test, y_train, y_test)\n",
        "print(f\"Train-Test Model: {train_test_model}\")\n",
        "print(f\"Test Predictions: {predictions_test}\")\n",
        "print(f\"Test Actual Y-Values: {y_test}\")"
      ]
    },
    {
      "cell_type": "markdown",
      "metadata": {
        "id": "lmO4I90TciJv"
      },
      "source": [
        "Expected output:\n",
        "```\n",
        "- Model: an instance of the LinearRegression class.\n",
        "- Predictions: a NumPy array of predicted values.\n",
        "- y_test: a Pandas Series with the actual target values used for evaluating the model.\n",
        "```"
      ]
    },
    {
      "cell_type": "markdown",
      "metadata": {
        "id": "25gvCBfDciJv"
      },
      "source": [
        "Now, let's evaluate our use our train-test model by determining R-squared, MAE, MSE, and RMSE.\n",
        "\n",
        "**⚙️ Your task:**\n",
        "\n",
        "1. Use the `calculate_evaluation_metrics` function (defined in Challenge 3) to calculate the R-squared, MAE, MSE, and RMSE.\n",
        "2. The function should return a tuple containing the evaluation metrics (R-squared, MAE, MSE, and RMSE).\n",
        "\n",
        "**Note:**\n",
        "\n",
        "- Ensure to use the test set to calculate the evaluation metrics."
      ]
    },
    {
      "cell_type": "code",
      "execution_count": 30,
      "metadata": {
        "colab": {
          "base_uri": "https://localhost:8080/"
        },
        "id": "Bj7WC2PDciJw",
        "outputId": "fe11bcc2-6b60-42a5-ab2f-f0ed16f3840d"
      },
      "outputs": [
        {
          "output_type": "execute_result",
          "data": {
            "text/plain": [
              "(0.08065722992150859,\n",
              " 0.087949421197475,\n",
              " 0.012250634233355654,\n",
              " 0.11068258324305434)"
            ]
          },
          "metadata": {},
          "execution_count": 30
        }
      ],
      "source": [
        "# Add code to calculate the R-squared, MAE, MSE, and RMSE\n",
        "calculate_evaluation_metrics(predictions_test, y_test)"
      ]
    },
    {
      "cell_type": "markdown",
      "metadata": {
        "id": "J0PREy7nciJw"
      },
      "source": [
        "Expected output:\n",
        "\n",
        "A tuple containing numerical values for R-squared, MAE, MSE, and RMSE (give or take 0.0001):\n",
        "\n",
        "```python\n",
        "R-squared: 0.08065722992150859\n",
        "MAE:  0.08794942119747501\n",
        "MSE: 0.012250634233355654\n",
        "RMSE: 0.11068258324305434\n",
        "\n",
        "```"
      ]
    },
    {
      "cell_type": "markdown",
      "metadata": {
        "id": "xqKBIkyPciJw"
      },
      "source": [
        "Reflect on the difference between these metics and the metrics we obtained from the previous model (that was not split into training and testings sets). Why do you think the fit is worse now? And, why should we choose the worse option? (Reflect on the course material if these answers to these questions are not clear.)\n",
        "\n",
        "  - ✍️ Your notes here\n"
      ]
    },
    {
      "cell_type": "markdown",
      "metadata": {
        "id": "lGQS8ueociJw"
      },
      "source": [
        "## Challenge 5: Diagnosing model fit through residual analysis"
      ]
    },
    {
      "cell_type": "markdown",
      "metadata": {
        "id": "7FQ9vZDsciJw"
      },
      "source": [
        "From our analysis, it seems as though neither `Ave_temps` or `Pollution_level` have a strong linear fit with `Standard_yield`. However, even if we had obtained good results from our evaluation metrics, there are still other crucial assumptions we need to verify to ensure our model is well-fitted. Residual analysis plays a pivotal role in diagnosing the fit of linear regression models, helping us understand whether the assumptions of linearity, independence, and homoscedasticity (constant variance) of residuals are met.\n",
        "\n",
        "If they are not met, can we confidently model this problem using the model? And why?\n",
        "\n",
        "  - ✍️ Your notes here"
      ]
    },
    {
      "cell_type": "markdown",
      "metadata": {
        "id": "Z5YaicQ6ciJw"
      },
      "source": [
        "First, let's create a histogram.\n",
        "\n",
        "**⚙️ Your task:**\n",
        "\n",
        "1. Calucate the residuals of our train test model (difference between `y_test` and `predictions_test`)\n",
        "2. Plot these residuals as a histogram to assess their distribution and identify any patterns."
      ]
    },
    {
      "cell_type": "code",
      "execution_count": 31,
      "metadata": {
        "id": "Wr2S97_eciJw"
      },
      "outputs": [],
      "source": [
        "import matplotlib.pyplot as plt"
      ]
    },
    {
      "cell_type": "code",
      "execution_count": 32,
      "metadata": {
        "colab": {
          "base_uri": "https://localhost:8080/",
          "height": 430
        },
        "id": "frJQXjh0ciJx",
        "outputId": "e5914b25-7ac5-4639-d8ee-56aeae42031f"
      },
      "outputs": [
        {
          "output_type": "display_data",
          "data": {
            "text/plain": [
              "<Figure size 640x480 with 1 Axes>"
            ],
            "image/png": "[encoded data removed]"
          },
          "metadata": {}
        }
      ],
      "source": [
        "residuals = y_test - predictions_test # calculating the residuals\n",
        "\n",
        "#  Add code to create a histogram of residuals\n",
        "plt.hist(residuals)\n",
        "plt.show()"
      ]
    },
    {
      "cell_type": "markdown",
      "metadata": {
        "id": "2vkJ5UZgciJx"
      },
      "source": [
        "What does the histogram tell us about our data:\n",
        "\n",
        "1. Examine the shape of the histogram. What does the distribution of residuals tell us about the normality of the data? Consider whether the residuals appear to be symmetrically distributed around zero.\n",
        "\n",
        "    - ✍️ Your notes here\n",
        "\n",
        "2. Compare the tails of the histogram to a normal distribution. Are there signs of heavy tails or skewness that could affect the reliability of the regression model's predictions?\n",
        "\n",
        "    - ✍️ Your notes here\n",
        "\n",
        "3. Assess the centering of the histogram around the zero line. How does this central tendency reflect on the bias of the model's predictions?\n",
        "\n",
        "    - ✍️ Your notes here"
      ]
    },
    {
      "cell_type": "markdown",
      "metadata": {
        "id": "oB5bHFmKciJx"
      },
      "source": [
        "Now, let's create a scatter plot of these residuals against the predicted values.\n",
        "\n",
        "**⚙️ Your task:**\n",
        "\n",
        "1. Create a scatter plot of the residuals against the predicted values - `predictions_test` should be on the x-axis and the `residuals` on the y-axis.\n",
        "\n",
        "**Note:**\n",
        "\n",
        "- A horizontal line can be added at y=0 to make it easier to see if the residuals are evenly distributed around zero by adding this line of code:\n",
        "`plt.axhline(y=0, color='r', linestyle='--')`\n"
      ]
    },
    {
      "cell_type": "code",
      "execution_count": 33,
      "metadata": {
        "colab": {
          "base_uri": "https://localhost:8080/",
          "height": 430
        },
        "id": "0mPF46PDciJx",
        "outputId": "04097a68-efdb-4755-a2c9-3f6022d9a78a"
      },
      "outputs": [
        {
          "output_type": "display_data",
          "data": {
            "text/plain": [
              "<Figure size 640x480 with 1 Axes>"
            ],
            "image/png": "[encoded data removed]"
          },
          "metadata": {}
        }
      ],
      "source": [
        "#  Add code to create a scatter plot of residuals against the predicted values\n",
        "plt.scatter(predictions_test, residuals)\n",
        "plt.axhline(y=0, color='r', linestyle='--')\n",
        "plt.show()"
      ]
    },
    {
      "cell_type": "markdown",
      "metadata": {
        "id": "DoSLY2lCciJx"
      },
      "source": [
        "Relfect on what the scatter plot tells us about our data and the fit of the model:\n",
        "\n",
        "1. Analyse the scatter plot for any apparent patterns or structures in the data. What does this suggest about the appropriateness of the linear regression model for the dataset?\n",
        "\n",
        "    - ✍️ Your notes here\n",
        "\n",
        "2. Inspect the plot for signs of heteroscedasticity. How does the spread of residuals change as the predicted values increase? What might this imply about the constant variance assumption in linear regression?\n",
        "\n",
        "    - ✍️ Your notes here\n",
        "\n",
        "3. Identify whether the residuals are evenly scattered above and below the zero line across the range of predicted values. What can this tell us about the model's performance in terms of bias and prediction accuracy?\n",
        "\n",
        "    - ✍️ Your notes here\n",
        "\n",
        "4. Look for outliers or clusters of points that deviate significantly from the majority. How might these points influence the overall fit of the model?\n",
        "\n",
        "    - ✍️ Your notes here\n"
      ]
    },
    {
      "cell_type": "markdown",
      "metadata": {
        "id": "hnJ0uzSJciJx"
      },
      "source": [
        "Our final task is to examine the mean and standard deviation of the residuals, which provide further insights into the model's performance.\n",
        "\n",
        "**⚙️ Your task:**\n",
        "\n",
        "Create a function named `calculate_residuals_statistics` that:\n",
        "1. Uses the `predictions_test` and `y_test` (obtained from Challenge 4) to calculate the residuals.\n",
        "2. Calculates the mean and standard deviation of the residuals.\n",
        "\n",
        "**Note:**\n",
        "\n",
        "- Use `numpy` for the mean and standard deviation."
      ]
    },
    {
      "cell_type": "code",
      "execution_count": 34,
      "metadata": {
        "id": "D-2NnJTpciJy"
      },
      "outputs": [],
      "source": [
        "import numpy as np"
      ]
    },
    {
      "cell_type": "code",
      "execution_count": 35,
      "metadata": {
        "id": "w5zqSBsnciJy"
      },
      "outputs": [],
      "source": [
        "### START FUNCTION\n",
        "def calculate_residuals_statistics(predictions, y_test):\n",
        "    mean_residual = np.mean(y_test - predictions)\n",
        "    std_residual = np.std(y_test - predictions)\n",
        "    return mean_residual, std_residual\n",
        "\n",
        "\n",
        "\n",
        "### END FUNCTION"
      ]
    },
    {
      "cell_type": "markdown",
      "metadata": {
        "id": "BPSUHZ0yciJy"
      },
      "source": [
        "Input:"
      ]
    },
    {
      "cell_type": "code",
      "execution_count": 36,
      "metadata": {
        "colab": {
          "base_uri": "https://localhost:8080/"
        },
        "id": "h_ikBaktciJy",
        "outputId": "90bf9365-ad95-4ba4-cda1-3dff7bddc60b"
      },
      "outputs": [
        {
          "output_type": "stream",
          "name": "stdout",
          "text": [
            "Mean: 0.00585802319232171\n",
            "Standard deviation: 0.11052745268770955\n"
          ]
        }
      ],
      "source": [
        "mean_residual, std_residual = calculate_residuals_statistics(predictions_test, y_test)\n",
        "print(f\"Mean: {mean_residual}\\nStandard deviation: {std_residual}\")"
      ]
    },
    {
      "cell_type": "markdown",
      "metadata": {
        "id": "EJaKgOJpciJy"
      },
      "source": [
        "Expected output:\n",
        "```\n",
        "Mean: 0.0058580231923217015\n",
        "Standard deviation: 0.11052745268770957\n",
        "```"
      ]
    },
    {
      "cell_type": "markdown",
      "metadata": {
        "id": "x18gPbOhciJy"
      },
      "source": [
        "What does the mean of the residuals tell us about the bias in our predictions? How does a mean close to zero reflect on our model's accuracy?\n",
        "\n",
        "- ✍️ Your notes here\n",
        "\n",
        "What does the standard deviation of the residuals indicate about the variability of our predictions? Why is it important for this value to be relatively low?\n",
        "\n",
        " - ✍️ Your notes here\n",
        "\n",
        "What are the potential consequences of a high standard deviation of residuals on the reliability of the model's predictions? How might this affect our confidence in the model's estimates?\n",
        "\n",
        "- ✍️ Your notes here"
      ]
    },
    {
      "cell_type": "markdown",
      "metadata": {
        "id": "FhVJPFAEciJz"
      },
      "source": [
        "## Conclusion\n",
        "\n",
        "Linear regression, for all its strengths, assumes a straightforward relationship between the predictor and the outcome. Yet, the natural world seldom adheres to such simplicity. Factors influencing crop yields in Maji Ndogo—be it temperature, rainfall, or pollution—interact in complex, often nonlinear ways. Our initial model with `Ave_temps` hinted at this complexity, suggesting that the effect of the average temperature on yields might follow a more intricate pattern than a straight line can depict (or no pattern at all).\n",
        "\n",
        "Our yield also depends on more than just the pollution or the temperature, it depends on many of the factors. From our EDA we could see that. We also saw that not all crops are affected equally by pollution or temperature, so we could simplify our model if we remove the influence of the different crops. Once your submission is done, as a challenge to yourself, try to split the data again by crop type (with a loop) and use the functions you created to loop over all of the crop types and print out your metrics.\n",
        "\n",
        "Compare them, and discuss your results with your colleagues. Is there a crop type that is affected by pollution more than other crop types?\n",
        "\n",
        "As we dive deeper into regression, it's crucial to remember that with each model comes a new perspective. Just as a farmer selects the tool that best suits the task at hand, so must we choose our models with intention and insight. Exploring beyond linear regression opens up new vistas of understanding, allowing us to capture the richness of relationships within our data.\n",
        "\n",
        "In the fields of Maji Ndogo and beyond, countless stories await. It's up to us, with curiosity as our guide and an ever-expanding array of models at our disposal, to uncover them."
      ]
    },
    {
      "cell_type": "markdown",
      "metadata": {
        "id": "Ps7LSQAhciJz"
      },
      "source": [
        "#  \n",
        "\n",
        "<div align=\"center\" style=\" font-size: 80%; text-align: center; margin: 0 auto\">\n",
        "<img src=\"https://raw.githubusercontent.com/Explore-AI/Pictures/master/ExploreAI_logos/EAI_Blue_Dark.png\"  style=\"width:200px\";/>\n",
        "</div>"
      ]
    }
  ],
  "metadata": {
    "kernelspec": {
      "display_name": "Python 3 (ipykernel)",
      "language": "python",
      "name": "python3"
    },
    "language_info": {
      "codemirror_mode": {
        "name": "ipython",
        "version": 3
      },
      "file_extension": ".py",
      "mimetype": "text/x-python",
      "name": "python",
      "nbconvert_exporter": "python",
      "pygments_lexer": "ipython3",
      "version": "3.11.8"
    },
    "colab": {
      "provenance": [],
      "include_colab_link": true
    }
  },
  "nbformat": 4,
  "nbformat_minor": 0
}